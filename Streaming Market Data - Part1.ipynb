{
 "cells": [
  {
   "cell_type": "markdown",
   "id": "720cd4ac-2be7-4e59-b6bc-4f0ddf90def8",
   "metadata": {},
   "source": [
    "## 라이브 데이터를 스트리밍하는 두 가지 방법\n",
    "- using **ThreadedWebsocketManager**\n",
    "- using **BinanceSocketManager**\n",
    "\n",
    "**ThreadedWebsocketManager :**\n",
    "- Code is simpler\n",
    "- worked with Python Version 3.7/3.8/3.9 and python-banance Version <= 1.0.15 in **Jupyter Notebooks and Scripts**\n",
    "- **no longer works in Jupyter Notebooks** if Python Version >= 3.10 **or** python-binance version > 1.0.15 (두가지 조건 중 하나가 충족되지 않으면 사용불가)\n",
    "- important : still works in any case in Python scripts\n",
    "\n",
    "**BinanceSocketManager :**\n",
    "- code is more complex\n",
    "- Works in Jupyter Notebooks and Scripts\n",
    "\n",
    "**두가지 옵션을 모두 포함하면 어떤 이점이 있을까?**\n",
    "-> 주피터에서 트레이딩 봇을 실행할 수 있으며, 파이썬 및 python-binance의 최신 버전을 사용하여 스크립트로 실행할 수 있다."
   ]
  },
  {
   "cell_type": "markdown",
   "id": "d8b095b7-a652-46d9-811f-420bd4a70875",
   "metadata": {},
   "source": [
    "#### **Option 1 : ThreadedWebsocketManager(스크립트에서만 실행 가능! 쥬피터에서 사용 불가!):**"
   ]
  },
  {
   "cell_type": "code",
   "execution_count": 1,
   "id": "20a70dc4-f703-40db-89fe-6f4bbad937f9",
   "metadata": {},
   "outputs": [],
   "source": [
    "#쥬피터에서 사용시 어떤 문제가 발생하는지 알아보자!\n",
    "from binance import ThreadedWebsocketManager\n",
    "import time"
   ]
  },
  {
   "cell_type": "code",
   "execution_count": 2,
   "id": "972a2855-536c-4acb-829e-71190767b889",
   "metadata": {},
   "outputs": [],
   "source": [
    "def stream_data(msg):\n",
    "    '''define how to process incoming WebSocket message'''\n",
    "    print(msg)"
   ]
  },
  {
   "cell_type": "code",
   "execution_count": 3,
   "id": "30eea34c-7d45-4eb4-ab98-8bbe94337a25",
   "metadata": {},
   "outputs": [
    {
     "name": "stderr",
     "output_type": "stream",
     "text": [
      "Exception in thread Thread-5:\n",
      "Traceback (most recent call last):\n",
      "  File \"C:\\Users\\seoeu\\anaconda3\\Lib\\threading.py\", line 1038, in _bootstrap_inner\n",
      "    self.run()\n",
      "  File \"C:\\Users\\seoeu\\anaconda3\\Lib\\site-packages\\binance\\threaded_stream.py\", line 59, in run\n",
      "    self._loop.run_until_complete(self.socket_listener())\n",
      "  File \"C:\\Users\\seoeu\\anaconda3\\Lib\\asyncio\\base_events.py\", line 629, in run_until_complete\n",
      "    self._check_running()\n",
      "  File \"C:\\Users\\seoeu\\anaconda3\\Lib\\asyncio\\base_events.py\", line 588, in _check_running\n",
      "    raise RuntimeError('This event loop is already running')\n",
      "RuntimeError: This event loop is already running\n",
      "C:\\Users\\seoeu\\anaconda3\\Lib\\threading.py:1040: RuntimeWarning: coroutine 'ThreadedApiManager.socket_listener' was never awaited\n",
      "  self._invoke_excepthook(self)\n",
      "RuntimeWarning: Enable tracemalloc to get the object allocation traceback\n"
     ]
    }
   ],
   "source": [
    "# initialize and start the WebSocket\n",
    "twm = ThreadedWebsocketManager()\n",
    "twm.start()"
   ]
  },
  {
   "cell_type": "code",
   "execution_count": 4,
   "id": "91bca59f-9237-4f1b-a0d3-169c7be3717b",
   "metadata": {},
   "outputs": [
    {
     "data": {
      "text/plain": [
       "<ThreadedWebsocketManager(Thread-5, stopped 17440)>"
      ]
     },
     "execution_count": 4,
     "metadata": {},
     "output_type": "execute_result"
    }
   ],
   "source": [
    "twm"
   ]
  },
  {
   "attachments": {
    "dbb56678-4d1f-4530-9cc0-a9950a4aa462.png": {
     "image/png": "[encoded data removed]"
    }
   },
   "cell_type": "markdown",
   "id": "9605b6a7-fe02-4345-8dad-3a9f17940856",
   "metadata": {},
   "source": [
    "## Individual Symbol Mini Ticker Stream을 실행 해볼 것이다.\n",
    "**Individual Symbol Mini Ticker Stream이란?:**\n",
    "- 24hr rolling window mini-ticker statistics. These are NOT the statistics of the UTC day, but a 24hr rolling window for the previous 24hrs.\n",
    "- 즉, 24시간 롤링 윈도우 미니 티커 통계\"란 UTC 날짜의 통계가 아닌 이전 24시간 동안의 데이터를 기반으로 한 통계를 말한다.\n",
    "- payload ![image.png](attachment:dbb56678-4d1f-4530-9cc0-a9950a4aa462.png)\n",
    "    \n",
    "**Different Market Streams available :** https://binance-docs.github.io/apidocs/spot/en/#websocket-market-streams\n",
    "\n"
   ]
  },
  {
   "cell_type": "code",
   "execution_count": 5,
   "id": "8ccadccc-bb06-43b8-bd31-71dde8578e13",
   "metadata": {},
   "outputs": [],
   "source": [
    "#subscribe to the stream\n",
    "#twm.start_symbol_miniticker_socket(callback = stream_data, symbol = \"BTCUSDT\")"
   ]
  },
  {
   "cell_type": "code",
   "execution_count": 6,
   "id": "c7a587b1-b8e1-4ffd-bb05-c3354d8a5d60",
   "metadata": {},
   "outputs": [],
   "source": [
    "#while True:\n",
    "#    time.sleep(20)\n",
    "#    twm.stop()\n",
    "#    break\n",
    "#파이썬 스크립트에서만 사용가능"
   ]
  },
  {
   "cell_type": "markdown",
   "id": "0684e33c-2471-4b81-8b20-2645554666a2",
   "metadata": {},
   "source": [
    "#### **Option 2 : BinanceSocketManager(쥬피터에서 사용 가능!):**"
   ]
  },
  {
   "cell_type": "code",
   "execution_count": 7,
   "id": "d4c26098-8653-4297-bf7a-145516629b5c",
   "metadata": {},
   "outputs": [],
   "source": [
    "import asyncio\n",
    "from binance import AsyncClient, BinanceSocketManager"
   ]
  },
  {
   "cell_type": "code",
   "execution_count": 8,
   "id": "c3f87e5c-c3a0-447a-b93a-eea2d8ffbe9c",
   "metadata": {},
   "outputs": [],
   "source": [
    "def stream_data(msg):\n",
    "    '''define how to process incoming WebSocket message'''\n",
    "    print(msg)"
   ]
  },
  {
   "cell_type": "code",
   "execution_count": 9,
   "id": "6babcaae-94ef-4848-af0a-31febb53c3b2",
   "metadata": {},
   "outputs": [],
   "source": [
    "#1.client 생성\n",
    "#2.BinanceSocketManager 초기화 후 usdt에 대한 symbol_miniticker_socket을 구독\n",
    "async def main():\n",
    "    client = await AsyncClient.create()\n",
    "    bm = BinanceSocketManager(client)\n",
    "    ts = bm.symbol_miniticker_socket(symbol=\"BTCUSDT\")\n",
    "    async with ts as tscm:\n",
    "        for _ in range(n): #This is hust an example to limit the number of messages. Remove or adjust\n",
    "            res = await tscm.recv()\n",
    "            stream_data(res)\n",
    "    await client.close_connection()"
   ]
  },
  {
   "cell_type": "code",
   "execution_count": 10,
   "id": "0224d9df-2ebb-4a86-adb6-6be084ac6b61",
   "metadata": {},
   "outputs": [],
   "source": [
    "n = 10 #stop stram after 10 messages"
   ]
  },
  {
   "cell_type": "code",
   "execution_count": 11,
   "id": "b195937b-a4f8-46ba-bdb2-0874c9f2cbfd",
   "metadata": {},
   "outputs": [
    {
     "name": "stdout",
     "output_type": "stream",
     "text": [
      "{'e': '24hrMiniTicker', 'E': 1707261024099, 's': 'BTCUSDT', 'c': '43167.57000000', 'o': '42503.89000000', 'h': '43399.98000000', 'l': '42484.39000000', 'v': '24716.64341000', 'q': '1062500600.70006620'}\n",
      "{'e': '24hrMiniTicker', 'E': 1707261025361, 's': 'BTCUSDT', 'c': '43167.57000000', 'o': '42503.88000000', 'h': '43399.98000000', 'l': '42484.39000000', 'v': '24716.63827000', 'q': '1062500386.81616450'}\n",
      "{'e': '24hrMiniTicker', 'E': 1707261026150, 's': 'BTCUSDT', 'c': '43167.57000000', 'o': '42503.89000000', 'h': '43399.98000000', 'l': '42484.39000000', 'v': '24716.65947000', 'q': '1062501303.40221610'}\n",
      "{'e': '24hrMiniTicker', 'E': 1707261027479, 's': 'BTCUSDT', 'c': '43167.58000000', 'o': '42503.89000000', 'h': '43399.98000000', 'l': '42484.39000000', 'v': '24716.68444000', 'q': '1062502393.40877880'}\n",
      "{'e': '24hrMiniTicker', 'E': 1707261028180, 's': 'BTCUSDT', 'c': '43167.57000000', 'o': '42503.88000000', 'h': '43399.98000000', 'l': '42484.39000000', 'v': '24716.69357000', 'q': '1062502792.18780380'}\n",
      "{'e': '24hrMiniTicker', 'E': 1707261029456, 's': 'BTCUSDT', 'c': '43167.58000000', 'o': '42503.89000000', 'h': '43399.98000000', 'l': '42484.39000000', 'v': '24716.15302000', 'q': '1062479829.81854480'}\n",
      "{'e': '24hrMiniTicker', 'E': 1707261030280, 's': 'BTCUSDT', 'c': '43167.57000000', 'o': '42503.88000000', 'h': '43399.98000000', 'l': '42484.39000000', 'v': '24716.15325000', 'q': '1062479840.47049710'}\n",
      "{'e': '24hrMiniTicker', 'E': 1707261031588, 's': 'BTCUSDT', 'c': '43167.58000000', 'o': '42503.88000000', 'h': '43399.98000000', 'l': '42484.39000000', 'v': '24716.15761000', 'q': '1062480029.95544990'}\n",
      "{'e': '24hrMiniTicker', 'E': 1707261032159, 's': 'BTCUSDT', 'c': '43167.58000000', 'o': '42503.88000000', 'h': '43399.98000000', 'l': '42484.39000000', 'v': '24716.16612000', 'q': '1062480397.97525570'}\n",
      "{'e': '24hrMiniTicker', 'E': 1707261033180, 's': 'BTCUSDT', 'c': '43167.58000000', 'o': '42503.88000000', 'h': '43399.98000000', 'l': '42484.39000000', 'v': '24716.59406000', 'q': '1062498871.10842230'}\n"
     ]
    }
   ],
   "source": [
    "await main() # start stream in Jupyter"
   ]
  },
  {
   "cell_type": "code",
   "execution_count": 12,
   "id": "09da92b6-7499-4fad-bf66-3a6a9514c334",
   "metadata": {},
   "outputs": [],
   "source": [
    "#asyncio.run(main()) # start stream in Script!"
   ]
  }
 ],
 "metadata": {
  "kernelspec": {
   "display_name": "Python 3 (ipykernel)",
   "language": "python",
   "name": "python3"
  },
  "language_info": {
   "codemirror_mode": {
    "name": "ipython",
    "version": 3
   },
   "file_extension": ".py",
   "mimetype": "text/x-python",
   "name": "python",
   "nbconvert_exporter": "python",
   "pygments_lexer": "ipython3",
   "version": "3.11.5"
  }
 },
 "nbformat": 4,
 "nbformat_minor": 5
}
