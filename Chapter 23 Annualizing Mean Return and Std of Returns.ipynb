{
 "cells": [
  {
   "cell_type": "code",
   "execution_count": 1,
   "id": "e7204f9e-e652-44b0-8242-039cbe572c8e",
   "metadata": {},
   "outputs": [],
   "source": [
    "import pandas as pd\n",
    "import numpy as np\n",
    "import matplotlib.pyplot as plt\n",
    "pd.options.display.float_format = '{:.6f}'.format\n",
    "plt.style.use(\"seaborn-v0_8\")"
   ]
  },
  {
   "cell_type": "code",
   "execution_count": 2,
   "id": "15df2d66-938b-4f86-b905-ff61b535a3af",
   "metadata": {},
   "outputs": [],
   "source": [
    "msft = pd.read_csv(\"msft.csv\", index_col=\"Date\", parse_dates = [\"Date\"])"
   ]
  },
  {
   "cell_type": "code",
   "execution_count": 3,
   "id": "30ef5317-6c86-409d-b483-2b0b78eab53f",
   "metadata": {},
   "outputs": [
    {
     "data": {
      "text/html": [
       "<div>\n",
       "<style scoped>\n",
       "    .dataframe tbody tr th:only-of-type {\n",
       "        vertical-align: middle;\n",
       "    }\n",
       "\n",
       "    .dataframe tbody tr th {\n",
       "        vertical-align: top;\n",
       "    }\n",
       "\n",
       "    .dataframe thead th {\n",
       "        text-align: right;\n",
       "    }\n",
       "</style>\n",
       "<table border=\"1\" class=\"dataframe\">\n",
       "  <thead>\n",
       "    <tr style=\"text-align: right;\">\n",
       "      <th></th>\n",
       "      <th>Price</th>\n",
       "      <th>Returns</th>\n",
       "    </tr>\n",
       "    <tr>\n",
       "      <th>Date</th>\n",
       "      <th></th>\n",
       "      <th></th>\n",
       "    </tr>\n",
       "  </thead>\n",
       "  <tbody>\n",
       "    <tr>\n",
       "      <th>2014-10-01</th>\n",
       "      <td>45.900002</td>\n",
       "      <td>NaN</td>\n",
       "    </tr>\n",
       "    <tr>\n",
       "      <th>2014-10-02</th>\n",
       "      <td>45.759998</td>\n",
       "      <td>-0.003050</td>\n",
       "    </tr>\n",
       "    <tr>\n",
       "      <th>2014-10-03</th>\n",
       "      <td>46.090000</td>\n",
       "      <td>0.007212</td>\n",
       "    </tr>\n",
       "    <tr>\n",
       "      <th>2014-10-06</th>\n",
       "      <td>46.090000</td>\n",
       "      <td>0.000000</td>\n",
       "    </tr>\n",
       "    <tr>\n",
       "      <th>2014-10-07</th>\n",
       "      <td>45.529999</td>\n",
       "      <td>-0.012150</td>\n",
       "    </tr>\n",
       "    <tr>\n",
       "      <th>...</th>\n",
       "      <td>...</td>\n",
       "      <td>...</td>\n",
       "    </tr>\n",
       "    <tr>\n",
       "      <th>2024-02-12</th>\n",
       "      <td>415.260010</td>\n",
       "      <td>-0.012579</td>\n",
       "    </tr>\n",
       "    <tr>\n",
       "      <th>2024-02-13</th>\n",
       "      <td>406.320007</td>\n",
       "      <td>-0.021529</td>\n",
       "    </tr>\n",
       "    <tr>\n",
       "      <th>2024-02-14</th>\n",
       "      <td>409.489990</td>\n",
       "      <td>0.007802</td>\n",
       "    </tr>\n",
       "    <tr>\n",
       "      <th>2024-02-15</th>\n",
       "      <td>406.559998</td>\n",
       "      <td>-0.007155</td>\n",
       "    </tr>\n",
       "    <tr>\n",
       "      <th>2024-02-16</th>\n",
       "      <td>404.059998</td>\n",
       "      <td>-0.006149</td>\n",
       "    </tr>\n",
       "  </tbody>\n",
       "</table>\n",
       "<p>2361 rows × 2 columns</p>\n",
       "</div>"
      ],
      "text/plain": [
       "                Price   Returns\n",
       "Date                           \n",
       "2014-10-01  45.900002       NaN\n",
       "2014-10-02  45.759998 -0.003050\n",
       "2014-10-03  46.090000  0.007212\n",
       "2014-10-06  46.090000  0.000000\n",
       "2014-10-07  45.529999 -0.012150\n",
       "...               ...       ...\n",
       "2024-02-12 415.260010 -0.012579\n",
       "2024-02-13 406.320007 -0.021529\n",
       "2024-02-14 409.489990  0.007802\n",
       "2024-02-15 406.559998 -0.007155\n",
       "2024-02-16 404.059998 -0.006149\n",
       "\n",
       "[2361 rows x 2 columns]"
      ]
     },
     "execution_count": 3,
     "metadata": {},
     "output_type": "execute_result"
    }
   ],
   "source": [
    "msft"
   ]
  },
  {
   "cell_type": "code",
   "execution_count": 4,
   "id": "9369b8b6-5a4a-4691-a199-13bd1d83a66c",
   "metadata": {},
   "outputs": [
    {
     "data": {
      "text/html": [
       "<div>\n",
       "<style scoped>\n",
       "    .dataframe tbody tr th:only-of-type {\n",
       "        vertical-align: middle;\n",
       "    }\n",
       "\n",
       "    .dataframe tbody tr th {\n",
       "        vertical-align: top;\n",
       "    }\n",
       "\n",
       "    .dataframe thead th {\n",
       "        text-align: right;\n",
       "    }\n",
       "</style>\n",
       "<table border=\"1\" class=\"dataframe\">\n",
       "  <thead>\n",
       "    <tr style=\"text-align: right;\">\n",
       "      <th></th>\n",
       "      <th>Price</th>\n",
       "      <th>Returns</th>\n",
       "      <th>log_ret</th>\n",
       "    </tr>\n",
       "    <tr>\n",
       "      <th>Date</th>\n",
       "      <th></th>\n",
       "      <th></th>\n",
       "      <th></th>\n",
       "    </tr>\n",
       "  </thead>\n",
       "  <tbody>\n",
       "    <tr>\n",
       "      <th>2014-10-01</th>\n",
       "      <td>45.900002</td>\n",
       "      <td>NaN</td>\n",
       "      <td>NaN</td>\n",
       "    </tr>\n",
       "    <tr>\n",
       "      <th>2014-10-02</th>\n",
       "      <td>45.759998</td>\n",
       "      <td>-0.003050</td>\n",
       "      <td>-0.003055</td>\n",
       "    </tr>\n",
       "    <tr>\n",
       "      <th>2014-10-03</th>\n",
       "      <td>46.090000</td>\n",
       "      <td>0.007212</td>\n",
       "      <td>0.007186</td>\n",
       "    </tr>\n",
       "    <tr>\n",
       "      <th>2014-10-06</th>\n",
       "      <td>46.090000</td>\n",
       "      <td>0.000000</td>\n",
       "      <td>0.000000</td>\n",
       "    </tr>\n",
       "    <tr>\n",
       "      <th>2014-10-07</th>\n",
       "      <td>45.529999</td>\n",
       "      <td>-0.012150</td>\n",
       "      <td>-0.012225</td>\n",
       "    </tr>\n",
       "    <tr>\n",
       "      <th>...</th>\n",
       "      <td>...</td>\n",
       "      <td>...</td>\n",
       "      <td>...</td>\n",
       "    </tr>\n",
       "    <tr>\n",
       "      <th>2024-02-12</th>\n",
       "      <td>415.260010</td>\n",
       "      <td>-0.012579</td>\n",
       "      <td>-0.012658</td>\n",
       "    </tr>\n",
       "    <tr>\n",
       "      <th>2024-02-13</th>\n",
       "      <td>406.320007</td>\n",
       "      <td>-0.021529</td>\n",
       "      <td>-0.021764</td>\n",
       "    </tr>\n",
       "    <tr>\n",
       "      <th>2024-02-14</th>\n",
       "      <td>409.489990</td>\n",
       "      <td>0.007802</td>\n",
       "      <td>0.007771</td>\n",
       "    </tr>\n",
       "    <tr>\n",
       "      <th>2024-02-15</th>\n",
       "      <td>406.559998</td>\n",
       "      <td>-0.007155</td>\n",
       "      <td>-0.007181</td>\n",
       "    </tr>\n",
       "    <tr>\n",
       "      <th>2024-02-16</th>\n",
       "      <td>404.059998</td>\n",
       "      <td>-0.006149</td>\n",
       "      <td>-0.006168</td>\n",
       "    </tr>\n",
       "  </tbody>\n",
       "</table>\n",
       "<p>2361 rows × 3 columns</p>\n",
       "</div>"
      ],
      "text/plain": [
       "                Price   Returns   log_ret\n",
       "Date                                     \n",
       "2014-10-01  45.900002       NaN       NaN\n",
       "2014-10-02  45.759998 -0.003050 -0.003055\n",
       "2014-10-03  46.090000  0.007212  0.007186\n",
       "2014-10-06  46.090000  0.000000  0.000000\n",
       "2014-10-07  45.529999 -0.012150 -0.012225\n",
       "...               ...       ...       ...\n",
       "2024-02-12 415.260010 -0.012579 -0.012658\n",
       "2024-02-13 406.320007 -0.021529 -0.021764\n",
       "2024-02-14 409.489990  0.007802  0.007771\n",
       "2024-02-15 406.559998 -0.007155 -0.007181\n",
       "2024-02-16 404.059998 -0.006149 -0.006168\n",
       "\n",
       "[2361 rows x 3 columns]"
      ]
     },
     "execution_count": 4,
     "metadata": {},
     "output_type": "execute_result"
    }
   ],
   "source": [
    "msft[\"log_ret\"] = np.log(msft.Price / msft.Price.shift())\n",
    "msft"
   ]
  },
  {
   "cell_type": "code",
   "execution_count": 9,
   "id": "ac1bc272-42fe-4839-8985-7866bda0f258",
   "metadata": {},
   "outputs": [
    {
     "data": {
      "text/plain": [
       "mean   0.000922\n",
       "std    0.017370\n",
       "Name: log_ret, dtype: float64"
      ]
     },
     "execution_count": 9,
     "metadata": {},
     "output_type": "execute_result"
    }
   ],
   "source": [
    "msft.log_ret.agg([\"mean\",\"std\"])\n",
    "#평균 수익률 0.1%\n",
    "#표준편차 1.7%"
   ]
  },
  {
   "cell_type": "code",
   "execution_count": 10,
   "id": "5178d9db-9620-4540-9af7-a05eee63956a",
   "metadata": {},
   "outputs": [
    {
     "data": {
      "text/plain": [
       "0.23225625119031998"
      ]
     },
     "execution_count": 10,
     "metadata": {},
     "output_type": "execute_result"
    }
   ],
   "source": [
    "#로그수익률의 평균을 연으로 곱하여 연간 기대수익률을 나타낼 수 있다.\n",
    "ann_mu = msft.log_ret.mean() * 252\n",
    "ann_mu"
   ]
  },
  {
   "cell_type": "code",
   "execution_count": 14,
   "id": "684d2ea5-939d-4398-944e-2683ea4b4dfd",
   "metadata": {},
   "outputs": [
    {
     "data": {
      "text/plain": [
       "0.2614429336690216"
      ]
     },
     "execution_count": 14,
     "metadata": {},
     "output_type": "execute_result"
    }
   ],
   "source": [
    "#연환산 평균 수익률(ann_mu)를 활용하여 연평균 성장률을 산출할 수도 있다.\n",
    "carg = np.exp(ann_mu) -1\n",
    "carg"
   ]
  },
  {
   "cell_type": "code",
   "execution_count": 15,
   "id": "43cd3cfd-17ec-4475-9380-9f44dbaf8f8d",
   "metadata": {},
   "outputs": [
    {
     "data": {
      "text/plain": [
       "0.2757334236350254"
      ]
     },
     "execution_count": 15,
     "metadata": {},
     "output_type": "execute_result"
    }
   ],
   "source": [
    "ann_std = msft.log_ret.std() * np.sqrt(252) \n",
    "#sqrt()메서드를 활용하여 일일 평균 수익률의 기준편차를 연환산화 할 수 있다.\n",
    "#연간 수익률의 표준편차가 높을수록 해당 주식의 가격이 연간으로 얼마나 변동하는지를 나타내며, \n",
    "#이는 투자의 위험 수준을 평가하는 데 중요한 지표이다.\n",
    "ann_std"
   ]
  },
  {
   "cell_type": "markdown",
   "id": "e4a402f0-8c84-4af7-955b-91030ef306dc",
   "metadata": {},
   "source": [
    "### Resampling/Smoothing"
   ]
  },
  {
   "cell_type": "code",
   "execution_count": 16,
   "id": "4a81f8f1-83cc-4f6f-b519-8628b6099b3c",
   "metadata": {},
   "outputs": [
    {
     "data": {
      "text/html": [
       "<div>\n",
       "<style scoped>\n",
       "    .dataframe tbody tr th:only-of-type {\n",
       "        vertical-align: middle;\n",
       "    }\n",
       "\n",
       "    .dataframe tbody tr th {\n",
       "        vertical-align: top;\n",
       "    }\n",
       "\n",
       "    .dataframe thead th {\n",
       "        text-align: right;\n",
       "    }\n",
       "</style>\n",
       "<table border=\"1\" class=\"dataframe\">\n",
       "  <thead>\n",
       "    <tr style=\"text-align: right;\">\n",
       "      <th></th>\n",
       "      <th>Price</th>\n",
       "      <th>Returns</th>\n",
       "      <th>log_ret</th>\n",
       "    </tr>\n",
       "    <tr>\n",
       "      <th>Date</th>\n",
       "      <th></th>\n",
       "      <th></th>\n",
       "      <th></th>\n",
       "    </tr>\n",
       "  </thead>\n",
       "  <tbody>\n",
       "    <tr>\n",
       "      <th>2014-10-01</th>\n",
       "      <td>45.900002</td>\n",
       "      <td>NaN</td>\n",
       "      <td>NaN</td>\n",
       "    </tr>\n",
       "    <tr>\n",
       "      <th>2014-10-02</th>\n",
       "      <td>45.759998</td>\n",
       "      <td>-0.003050</td>\n",
       "      <td>-0.003055</td>\n",
       "    </tr>\n",
       "    <tr>\n",
       "      <th>2014-10-03</th>\n",
       "      <td>46.090000</td>\n",
       "      <td>0.007212</td>\n",
       "      <td>0.007186</td>\n",
       "    </tr>\n",
       "    <tr>\n",
       "      <th>2014-10-06</th>\n",
       "      <td>46.090000</td>\n",
       "      <td>0.000000</td>\n",
       "      <td>0.000000</td>\n",
       "    </tr>\n",
       "    <tr>\n",
       "      <th>2014-10-07</th>\n",
       "      <td>45.529999</td>\n",
       "      <td>-0.012150</td>\n",
       "      <td>-0.012225</td>\n",
       "    </tr>\n",
       "    <tr>\n",
       "      <th>2014-10-08</th>\n",
       "      <td>46.779999</td>\n",
       "      <td>0.027454</td>\n",
       "      <td>0.027084</td>\n",
       "    </tr>\n",
       "    <tr>\n",
       "      <th>2014-10-09</th>\n",
       "      <td>45.849998</td>\n",
       "      <td>-0.019880</td>\n",
       "      <td>-0.020081</td>\n",
       "    </tr>\n",
       "    <tr>\n",
       "      <th>2014-10-10</th>\n",
       "      <td>44.029999</td>\n",
       "      <td>-0.039695</td>\n",
       "      <td>-0.040504</td>\n",
       "    </tr>\n",
       "    <tr>\n",
       "      <th>2014-10-13</th>\n",
       "      <td>43.650002</td>\n",
       "      <td>-0.008630</td>\n",
       "      <td>-0.008668</td>\n",
       "    </tr>\n",
       "    <tr>\n",
       "      <th>2014-10-14</th>\n",
       "      <td>43.730000</td>\n",
       "      <td>0.001833</td>\n",
       "      <td>0.001831</td>\n",
       "    </tr>\n",
       "    <tr>\n",
       "      <th>2014-10-15</th>\n",
       "      <td>43.220001</td>\n",
       "      <td>-0.011662</td>\n",
       "      <td>-0.011731</td>\n",
       "    </tr>\n",
       "    <tr>\n",
       "      <th>2014-10-16</th>\n",
       "      <td>42.740002</td>\n",
       "      <td>-0.011106</td>\n",
       "      <td>-0.011168</td>\n",
       "    </tr>\n",
       "    <tr>\n",
       "      <th>2014-10-17</th>\n",
       "      <td>43.630001</td>\n",
       "      <td>0.020824</td>\n",
       "      <td>0.020610</td>\n",
       "    </tr>\n",
       "    <tr>\n",
       "      <th>2014-10-20</th>\n",
       "      <td>44.080002</td>\n",
       "      <td>0.010314</td>\n",
       "      <td>0.010261</td>\n",
       "    </tr>\n",
       "    <tr>\n",
       "      <th>2014-10-21</th>\n",
       "      <td>44.880001</td>\n",
       "      <td>0.018149</td>\n",
       "      <td>0.017986</td>\n",
       "    </tr>\n",
       "    <tr>\n",
       "      <th>2014-10-22</th>\n",
       "      <td>44.380001</td>\n",
       "      <td>-0.011141</td>\n",
       "      <td>-0.011203</td>\n",
       "    </tr>\n",
       "    <tr>\n",
       "      <th>2014-10-23</th>\n",
       "      <td>45.020000</td>\n",
       "      <td>0.014421</td>\n",
       "      <td>0.014318</td>\n",
       "    </tr>\n",
       "    <tr>\n",
       "      <th>2014-10-24</th>\n",
       "      <td>46.130001</td>\n",
       "      <td>0.024656</td>\n",
       "      <td>0.024357</td>\n",
       "    </tr>\n",
       "    <tr>\n",
       "      <th>2014-10-27</th>\n",
       "      <td>45.910000</td>\n",
       "      <td>-0.004769</td>\n",
       "      <td>-0.004781</td>\n",
       "    </tr>\n",
       "    <tr>\n",
       "      <th>2014-10-28</th>\n",
       "      <td>46.490002</td>\n",
       "      <td>0.012633</td>\n",
       "      <td>0.012554</td>\n",
       "    </tr>\n",
       "    <tr>\n",
       "      <th>2014-10-29</th>\n",
       "      <td>46.619999</td>\n",
       "      <td>0.002796</td>\n",
       "      <td>0.002792</td>\n",
       "    </tr>\n",
       "    <tr>\n",
       "      <th>2014-10-30</th>\n",
       "      <td>46.049999</td>\n",
       "      <td>-0.012227</td>\n",
       "      <td>-0.012302</td>\n",
       "    </tr>\n",
       "    <tr>\n",
       "      <th>2014-10-31</th>\n",
       "      <td>46.950001</td>\n",
       "      <td>0.019544</td>\n",
       "      <td>0.019355</td>\n",
       "    </tr>\n",
       "    <tr>\n",
       "      <th>2014-11-03</th>\n",
       "      <td>47.439999</td>\n",
       "      <td>0.010437</td>\n",
       "      <td>0.010383</td>\n",
       "    </tr>\n",
       "    <tr>\n",
       "      <th>2014-11-04</th>\n",
       "      <td>47.570000</td>\n",
       "      <td>0.002740</td>\n",
       "      <td>0.002737</td>\n",
       "    </tr>\n",
       "  </tbody>\n",
       "</table>\n",
       "</div>"
      ],
      "text/plain": [
       "               Price   Returns   log_ret\n",
       "Date                                    \n",
       "2014-10-01 45.900002       NaN       NaN\n",
       "2014-10-02 45.759998 -0.003050 -0.003055\n",
       "2014-10-03 46.090000  0.007212  0.007186\n",
       "2014-10-06 46.090000  0.000000  0.000000\n",
       "2014-10-07 45.529999 -0.012150 -0.012225\n",
       "2014-10-08 46.779999  0.027454  0.027084\n",
       "2014-10-09 45.849998 -0.019880 -0.020081\n",
       "2014-10-10 44.029999 -0.039695 -0.040504\n",
       "2014-10-13 43.650002 -0.008630 -0.008668\n",
       "2014-10-14 43.730000  0.001833  0.001831\n",
       "2014-10-15 43.220001 -0.011662 -0.011731\n",
       "2014-10-16 42.740002 -0.011106 -0.011168\n",
       "2014-10-17 43.630001  0.020824  0.020610\n",
       "2014-10-20 44.080002  0.010314  0.010261\n",
       "2014-10-21 44.880001  0.018149  0.017986\n",
       "2014-10-22 44.380001 -0.011141 -0.011203\n",
       "2014-10-23 45.020000  0.014421  0.014318\n",
       "2014-10-24 46.130001  0.024656  0.024357\n",
       "2014-10-27 45.910000 -0.004769 -0.004781\n",
       "2014-10-28 46.490002  0.012633  0.012554\n",
       "2014-10-29 46.619999  0.002796  0.002792\n",
       "2014-10-30 46.049999 -0.012227 -0.012302\n",
       "2014-10-31 46.950001  0.019544  0.019355\n",
       "2014-11-03 47.439999  0.010437  0.010383\n",
       "2014-11-04 47.570000  0.002740  0.002737"
      ]
     },
     "execution_count": 16,
     "metadata": {},
     "output_type": "execute_result"
    }
   ],
   "source": [
    "msft.head(25)"
   ]
  },
  {
   "cell_type": "code",
   "execution_count": 17,
   "id": "89a77c02-1700-4389-a059-81c5e43871d7",
   "metadata": {},
   "outputs": [
    {
     "data": {
      "image/png": "[encoded data removed]",
      "text/plain": [
       "<Figure size 1200x800 with 1 Axes>"
      ]
     },
     "metadata": {},
     "output_type": "display_data"
    }
   ],
   "source": [
    "msft.Price.plot(figsize = (12,8))\n",
    "plt.legend()\n",
    "plt.show()"
   ]
  },
  {
   "cell_type": "code",
   "execution_count": 18,
   "id": "63b8a93c-ab9d-4e27-88bb-5ceedfe2e683",
   "metadata": {},
   "outputs": [
    {
     "data": {
      "text/plain": [
       "Date\n",
       "2014-10-31    46.950001\n",
       "2014-11-30    47.810001\n",
       "2014-12-31    46.450001\n",
       "2015-01-31    40.400002\n",
       "2015-02-28    43.849998\n",
       "                ...    \n",
       "2023-10-31   338.109985\n",
       "2023-11-30   378.910004\n",
       "2023-12-31   376.040009\n",
       "2024-01-31   397.579987\n",
       "2024-02-29   404.059998\n",
       "Freq: M, Name: Price, Length: 113, dtype: float64"
      ]
     },
     "execution_count": 18,
     "metadata": {},
     "output_type": "execute_result"
    }
   ],
   "source": [
    "monthly = msft.Price.resample(\"M\").last()\n",
    "monthly"
   ]
  },
  {
   "cell_type": "code",
   "execution_count": 20,
   "id": "8bf29a8e-7f4d-4665-a2ef-78ca206032d1",
   "metadata": {},
   "outputs": [
    {
     "data": {
      "image/png": "[encoded data removed]",
      "text/plain": [
       "<Figure size 1200x800 with 1 Axes>"
      ]
     },
     "metadata": {},
     "output_type": "display_data"
    }
   ],
   "source": [
    "monthly.plot(figsize = (12, 8))\n",
    "plt.legend()\n",
    "plt.show()"
   ]
  },
  {
   "cell_type": "code",
   "execution_count": 21,
   "id": "0b551b48-af0d-4e54-9808-71ba488dee0e",
   "metadata": {},
   "outputs": [],
   "source": [
    "freqs = [\"A\",\"Q\",\"M\",\"W-Fri\",\"D\"]\n",
    "periods = [1, 4, 12, 52, 252]\n",
    "ann_mean = []\n",
    "ann_std = []"
   ]
  },
  {
   "cell_type": "code",
   "execution_count": 23,
   "id": "f9c3a58f-672a-47ec-9a9f-eb984da7b921",
   "metadata": {},
   "outputs": [],
   "source": [
    "for i in range(5):\n",
    "    resamp = msft.Price.resample(freqs[i]).last()\n",
    "    ann_mean.append(np.log(resamp / resamp.shift()).mean() * periods[i])\n",
    "    ann_std.append(np.log(resamp / resamp.shift()).std() * np.sqrt(periods[i]))"
   ]
  },
  {
   "cell_type": "code",
   "execution_count": 24,
   "id": "ad77b3aa-7fd6-4af9-bc42-c708ecb350bc",
   "metadata": {},
   "outputs": [
    {
     "data": {
      "text/plain": [
       "[0.21631868940584004,\n",
       " 0.23385804260090814,\n",
       " 0.23062287362559586,\n",
       " 0.230859515370976,\n",
       " 0.2572263989353639]"
      ]
     },
     "execution_count": 24,
     "metadata": {},
     "output_type": "execute_result"
    }
   ],
   "source": [
    "ann_mean"
   ]
  },
  {
   "cell_type": "code",
   "execution_count": 25,
   "id": "9c78c666-64e8-44ee-942f-8b0b65422e56",
   "metadata": {},
   "outputs": [
    {
     "data": {
      "text/plain": [
       "[0.2386883256592356,\n",
       " 0.207205538019092,\n",
       " 0.2152864136630449,\n",
       " 0.2391016054231904,\n",
       " 0.27403131686835525]"
      ]
     },
     "execution_count": 25,
     "metadata": {},
     "output_type": "execute_result"
    }
   ],
   "source": [
    "ann_std"
   ]
  },
  {
   "cell_type": "code",
   "execution_count": 26,
   "id": "7f688241-c937-4e0b-bc91-583ca6278d07",
   "metadata": {},
   "outputs": [
    {
     "data": {
      "text/html": [
       "<div>\n",
       "<style scoped>\n",
       "    .dataframe tbody tr th:only-of-type {\n",
       "        vertical-align: middle;\n",
       "    }\n",
       "\n",
       "    .dataframe tbody tr th {\n",
       "        vertical-align: top;\n",
       "    }\n",
       "\n",
       "    .dataframe thead th {\n",
       "        text-align: right;\n",
       "    }\n",
       "</style>\n",
       "<table border=\"1\" class=\"dataframe\">\n",
       "  <thead>\n",
       "    <tr style=\"text-align: right;\">\n",
       "      <th></th>\n",
       "      <th>ann_std</th>\n",
       "      <th>ann_mean</th>\n",
       "    </tr>\n",
       "  </thead>\n",
       "  <tbody>\n",
       "    <tr>\n",
       "      <th>A</th>\n",
       "      <td>0.238688</td>\n",
       "      <td>0.216319</td>\n",
       "    </tr>\n",
       "    <tr>\n",
       "      <th>Q</th>\n",
       "      <td>0.207206</td>\n",
       "      <td>0.233858</td>\n",
       "    </tr>\n",
       "    <tr>\n",
       "      <th>M</th>\n",
       "      <td>0.215286</td>\n",
       "      <td>0.230623</td>\n",
       "    </tr>\n",
       "    <tr>\n",
       "      <th>W-Fri</th>\n",
       "      <td>0.239102</td>\n",
       "      <td>0.230860</td>\n",
       "    </tr>\n",
       "    <tr>\n",
       "      <th>D</th>\n",
       "      <td>0.274031</td>\n",
       "      <td>0.257226</td>\n",
       "    </tr>\n",
       "  </tbody>\n",
       "</table>\n",
       "</div>"
      ],
      "text/plain": [
       "       ann_std  ann_mean\n",
       "A     0.238688  0.216319\n",
       "Q     0.207206  0.233858\n",
       "M     0.215286  0.230623\n",
       "W-Fri 0.239102  0.230860\n",
       "D     0.274031  0.257226"
      ]
     },
     "execution_count": 26,
     "metadata": {},
     "output_type": "execute_result"
    }
   ],
   "source": [
    "summary = pd.DataFrame(data = {\"ann_std\":ann_std, \"ann_mean\":ann_mean}, index = freqs)\n",
    "summary"
   ]
  },
  {
   "cell_type": "code",
   "execution_count": 30,
   "id": "e94acfa1-61bb-4de2-b15c-12e92d0a3a2f",
   "metadata": {},
   "outputs": [
    {
     "data": {
      "image/png": "[encoded data removed]",
      "text/plain": [
       "<Figure size 1500x1200 with 1 Axes>"
      ]
     },
     "metadata": {},
     "output_type": "display_data"
    }
   ],
   "source": [
    "summary.plot(kind = \"scatter\", x = \"ann_std\", y = \"ann_mean\", figsize = (15,12), s = 50, fontsize = 15)\n",
    "for i in summary.index:\n",
    "    plt.annotate(i, xy=(summary.loc[i, \"ann_std\"]+0.001, summary.loc[i,\"ann_mean\"]+0.001), size =15)\n",
    "plt.ylim(0, 0.3)\n",
    "plt.xlabel(\"ann. Risk(std)\", fontsize = 15)\n",
    "plt.ylabel(\"ann. Return\",fontsize = 15)\n",
    "plt.title(\"Risk/Return\", fontsize = 20)\n",
    "plt.show()"
   ]
  },
  {
   "cell_type": "code",
   "execution_count": null,
   "id": "129ebeaf-33bf-4779-9feb-6a05a8e3ebb0",
   "metadata": {},
   "outputs": [],
   "source": []
  }
 ],
 "metadata": {
  "kernelspec": {
   "display_name": "Python 3 (ipykernel)",
   "language": "python",
   "name": "python3"
  },
  "language_info": {
   "codemirror_mode": {
    "name": "ipython",
    "version": 3
   },
   "file_extension": ".py",
   "mimetype": "text/x-python",
   "name": "python",
   "nbconvert_exporter": "python",
   "pygments_lexer": "ipython3",
   "version": "3.9.13"
  }
 },
 "nbformat": 4,
 "nbformat_minor": 5
}
