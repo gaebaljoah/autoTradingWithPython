{
 "cells": [
  {
   "cell_type": "code",
   "execution_count": 1,
   "id": "3e1fece8-13da-4479-a84d-dcd040d89534",
   "metadata": {},
   "outputs": [],
   "source": [
    "from binance.client import Client"
   ]
  },
  {
   "cell_type": "code",
   "execution_count": 2,
   "id": "1bedd0aa-f19a-4521-91cb-c0a3d6038419",
   "metadata": {},
   "outputs": [],
   "source": [
    "api_key = \"TGV2OZgIKqiCEWvhVUAUDGBB99Eixo1z2ILlZ0h3lRdutfklTwRlqzPYpIazsYcn\"\n",
    "secret_key = \"CrgLtKo6MRxdL6tJRNKokKPKOAWa0Rn59Q9KfX57yal0E1WTqz79jk2IT03g6VcZ\""
   ]
  },
  {
   "cell_type": "code",
   "execution_count": 3,
   "id": "d29def7f-c65b-4766-bdb9-6db02d6aaeb0",
   "metadata": {},
   "outputs": [],
   "source": [
    "client = Client(api_key = api_key, api_secret = secret_key, tld = \"com\")"
   ]
  },
  {
   "cell_type": "code",
   "execution_count": 4,
   "id": "f532a1f6-d57c-4121-aefd-153fc66d7fd9",
   "metadata": {},
   "outputs": [
    {
     "data": {
      "text/plain": [
       "<binance.client.Client at 0x24f3faaf670>"
      ]
     },
     "execution_count": 4,
     "metadata": {},
     "output_type": "execute_result"
    }
   ],
   "source": [
    "client"
   ]
  },
  {
   "cell_type": "code",
   "execution_count": 7,
   "id": "b8d1f34f-5b5b-4b29-ab33-97d90447c048",
   "metadata": {},
   "outputs": [
    {
     "data": {
      "text/plain": [
       "{}"
      ]
     },
     "execution_count": 7,
     "metadata": {},
     "output_type": "execute_result"
    }
   ],
   "source": [
    "# place a test market buy order, to place an actual order use the create_ordcer function\n",
    "order = client.create_test_order(symbol = \"BTCUSDT\", side = \"BUY\", type = \"MARKET\", quantity = 0.1)\n",
    "order"
   ]
  },
  {
   "cell_type": "markdown",
   "id": "e0d0ba6f-0f89-48f2-85a2-3f91df97a999",
   "metadata": {},
   "source": [
    "### Paper Trading with Python and Binance - the Spot Testnet API\n",
    "###### More Information and getting the Credentials : https://testnet.binance.vision/\n",
    "\n",
    "###### Insert your Spot Testnet Credentials here: "
   ]
  },
  {
   "cell_type": "code",
   "execution_count": null,
   "id": "1de4239a-e707-4d0a-9db4-e401ad540395",
   "metadata": {},
   "outputs": [],
   "source": [
    "#test api_key\n",
    "api_Key = ni1RGarrqKhXFMnmqZt2EEbEJkpGDXs4AxHml3r7aevzg7uqUR1rTFbNngWiTOln\n",
    "secret_Key: HqFm7zQNQPOEJdYMgLho7engJbah6FAH98Eqf607h467CB9RM9e6dHDytnQbKGgk"
   ]
  }
 ],
 "metadata": {
  "kernelspec": {
   "display_name": "Python 3 (ipykernel)",
   "language": "python",
   "name": "python3"
  },
  "language_info": {
   "codemirror_mode": {
    "name": "ipython",
    "version": 3
   },
   "file_extension": ".py",
   "mimetype": "text/x-python",
   "name": "python",
   "nbconvert_exporter": "python",
   "pygments_lexer": "ipython3",
   "version": "3.9.13"
  }
 },
 "nbformat": 4,
 "nbformat_minor": 5
}
