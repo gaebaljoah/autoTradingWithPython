{
 "cells": [
  {
   "cell_type": "code",
   "execution_count": 1,
   "id": "e906eafc-0682-4990-afb2-da15f2230908",
   "metadata": {},
   "outputs": [],
   "source": [
    "import pandas as pd\n",
    "import numpy as np\n",
    "pd.options.display.float_format = '{:.6f}'.format"
   ]
  },
  {
   "cell_type": "code",
   "execution_count": 2,
   "id": "a8c51a39-1d41-4bc3-88a9-f6cc2ad87cdd",
   "metadata": {},
   "outputs": [],
   "source": [
    "msft = pd.read_csv(\"msft.csv\", index_col = \"Date\", parse_dates = [\"Date\"])"
   ]
  },
  {
   "cell_type": "code",
   "execution_count": 14,
   "id": "22dd977c-040d-427c-b097-620692906ba0",
   "metadata": {},
   "outputs": [
    {
     "data": {
      "text/html": [
       "<div>\n",
       "<style scoped>\n",
       "    .dataframe tbody tr th:only-of-type {\n",
       "        vertical-align: middle;\n",
       "    }\n",
       "\n",
       "    .dataframe tbody tr th {\n",
       "        vertical-align: top;\n",
       "    }\n",
       "\n",
       "    .dataframe thead th {\n",
       "        text-align: right;\n",
       "    }\n",
       "</style>\n",
       "<table border=\"1\" class=\"dataframe\">\n",
       "  <thead>\n",
       "    <tr style=\"text-align: right;\">\n",
       "      <th></th>\n",
       "      <th>Price</th>\n",
       "      <th>Returns</th>\n",
       "      <th>log_ret</th>\n",
       "    </tr>\n",
       "    <tr>\n",
       "      <th>Date</th>\n",
       "      <th></th>\n",
       "      <th></th>\n",
       "      <th></th>\n",
       "    </tr>\n",
       "  </thead>\n",
       "  <tbody>\n",
       "    <tr>\n",
       "      <th>2014-10-01</th>\n",
       "      <td>45.900002</td>\n",
       "      <td>NaN</td>\n",
       "      <td>NaN</td>\n",
       "    </tr>\n",
       "    <tr>\n",
       "      <th>2014-10-02</th>\n",
       "      <td>45.759998</td>\n",
       "      <td>-0.003050</td>\n",
       "      <td>-0.003055</td>\n",
       "    </tr>\n",
       "    <tr>\n",
       "      <th>2014-10-03</th>\n",
       "      <td>46.090000</td>\n",
       "      <td>0.007212</td>\n",
       "      <td>0.007186</td>\n",
       "    </tr>\n",
       "    <tr>\n",
       "      <th>2014-10-06</th>\n",
       "      <td>46.090000</td>\n",
       "      <td>0.000000</td>\n",
       "      <td>0.000000</td>\n",
       "    </tr>\n",
       "    <tr>\n",
       "      <th>2014-10-07</th>\n",
       "      <td>45.529999</td>\n",
       "      <td>-0.012150</td>\n",
       "      <td>-0.012225</td>\n",
       "    </tr>\n",
       "    <tr>\n",
       "      <th>...</th>\n",
       "      <td>...</td>\n",
       "      <td>...</td>\n",
       "      <td>...</td>\n",
       "    </tr>\n",
       "    <tr>\n",
       "      <th>2024-02-12</th>\n",
       "      <td>415.260010</td>\n",
       "      <td>-0.012579</td>\n",
       "      <td>-0.012658</td>\n",
       "    </tr>\n",
       "    <tr>\n",
       "      <th>2024-02-13</th>\n",
       "      <td>406.320007</td>\n",
       "      <td>-0.021529</td>\n",
       "      <td>-0.021764</td>\n",
       "    </tr>\n",
       "    <tr>\n",
       "      <th>2024-02-14</th>\n",
       "      <td>409.489990</td>\n",
       "      <td>0.007802</td>\n",
       "      <td>0.007771</td>\n",
       "    </tr>\n",
       "    <tr>\n",
       "      <th>2024-02-15</th>\n",
       "      <td>406.559998</td>\n",
       "      <td>-0.007155</td>\n",
       "      <td>-0.007181</td>\n",
       "    </tr>\n",
       "    <tr>\n",
       "      <th>2024-02-16</th>\n",
       "      <td>404.059998</td>\n",
       "      <td>-0.006149</td>\n",
       "      <td>-0.006168</td>\n",
       "    </tr>\n",
       "  </tbody>\n",
       "</table>\n",
       "<p>2361 rows × 3 columns</p>\n",
       "</div>"
      ],
      "text/plain": [
       "                Price   Returns   log_ret\n",
       "Date                                     \n",
       "2014-10-01  45.900002       NaN       NaN\n",
       "2014-10-02  45.759998 -0.003050 -0.003055\n",
       "2014-10-03  46.090000  0.007212  0.007186\n",
       "2014-10-06  46.090000  0.000000  0.000000\n",
       "2014-10-07  45.529999 -0.012150 -0.012225\n",
       "...               ...       ...       ...\n",
       "2024-02-12 415.260010 -0.012579 -0.012658\n",
       "2024-02-13 406.320007 -0.021529 -0.021764\n",
       "2024-02-14 409.489990  0.007802  0.007771\n",
       "2024-02-15 406.559998 -0.007155 -0.007181\n",
       "2024-02-16 404.059998 -0.006149 -0.006168\n",
       "\n",
       "[2361 rows x 3 columns]"
      ]
     },
     "execution_count": 14,
     "metadata": {},
     "output_type": "execute_result"
    }
   ],
   "source": [
    "msft[\"log_ret\"] = np.log(msft.Price / msft.Price.shift())\n",
    "msft"
   ]
  },
  {
   "cell_type": "markdown",
   "id": "df6e744a-af3d-4186-b716-4c34c8013d8d",
   "metadata": {},
   "source": [
    "### **Investment Multiple**"
   ]
  },
  {
   "cell_type": "code",
   "execution_count": 11,
   "id": "4aeb87b5-2e54-469d-abf3-92b2068ae0e6",
   "metadata": {},
   "outputs": [
    {
     "data": {
      "text/plain": [
       "8.803049763098581"
      ]
     },
     "execution_count": 11,
     "metadata": {},
     "output_type": "execute_result"
    }
   ],
   "source": [
    "msft.Returns.add(1).prod() #단순 수익률을 활용하여 합산하기 투자배수는 8.83"
   ]
  },
  {
   "cell_type": "code",
   "execution_count": 13,
   "id": "86dd8d08-15b1-4f67-ab73-83b9fd1e5db2",
   "metadata": {},
   "outputs": [
    {
     "data": {
      "text/plain": [
       "8.803049763098118"
      ]
     },
     "execution_count": 13,
     "metadata": {},
     "output_type": "execute_result"
    }
   ],
   "source": [
    "#exp()함수에 로그 수익율의 합산값을 넣어 자연상수에 거듭제곱하기\n",
    "np.exp(msft.log_ret.sum())"
   ]
  },
  {
   "cell_type": "markdown",
   "id": "130914b7-4aed-4c59-84f7-9eee33d97573",
   "metadata": {},
   "source": [
    "### **Normalized Prices with Base 1**"
   ]
  },
  {
   "cell_type": "code",
   "execution_count": 15,
   "id": "163ae1a0-7b3b-479b-a445-a19c50441ef7",
   "metadata": {},
   "outputs": [
    {
     "data": {
      "text/plain": [
       "Date\n",
       "2014-10-01        NaN\n",
       "2014-10-02   0.996950\n",
       "2014-10-03   1.004139\n",
       "2014-10-06   1.004139\n",
       "2014-10-07   0.991939\n",
       "               ...   \n",
       "2024-02-12   9.047059\n",
       "2024-02-13   8.852287\n",
       "2024-02-14   8.921350\n",
       "2024-02-15   8.857516\n",
       "2024-02-16   8.803050\n",
       "Name: Returns, Length: 2361, dtype: float64"
      ]
     },
     "execution_count": 15,
     "metadata": {},
     "output_type": "execute_result"
    }
   ],
   "source": [
    "msft.Returns.add(1).cumprod() #단순 수익률의 누적 곱을 나타내는 함수 cumprod()"
   ]
  },
  {
   "cell_type": "code",
   "execution_count": 17,
   "id": "762ace71-68fc-4bd9-9651-f3655eb4f8b5",
   "metadata": {},
   "outputs": [
    {
     "data": {
      "text/plain": [
       "Date\n",
       "2014-10-01        NaN\n",
       "2014-10-02   0.996950\n",
       "2014-10-03   1.004139\n",
       "2014-10-06   1.004139\n",
       "2014-10-07   0.991939\n",
       "               ...   \n",
       "2024-02-12   9.047059\n",
       "2024-02-13   8.852287\n",
       "2024-02-14   8.921350\n",
       "2024-02-15   8.857516\n",
       "2024-02-16   8.803050\n",
       "Name: log_ret, Length: 2361, dtype: float64"
      ]
     },
     "execution_count": 17,
     "metadata": {},
     "output_type": "execute_result"
    }
   ],
   "source": [
    "np.exp(msft.log_ret.cumsum()) #로그 수익률의 누적합을 나타내는 함수 cumsum()"
   ]
  },
  {
   "cell_type": "code",
   "execution_count": 18,
   "id": "022c5b49-2a01-4231-ac0e-ef39e2132ca8",
   "metadata": {},
   "outputs": [
    {
     "data": {
      "text/plain": [
       "Date\n",
       "2014-10-01        NaN\n",
       "2014-10-02   0.996950\n",
       "2014-10-03   1.004139\n",
       "2014-10-06   1.004139\n",
       "2014-10-07   0.991939\n",
       "               ...   \n",
       "2024-02-12   9.047059\n",
       "2024-02-13   8.852287\n",
       "2024-02-14   8.921350\n",
       "2024-02-15   8.857516\n",
       "2024-02-16   8.803050\n",
       "Name: log_ret, Length: 2361, dtype: float64"
      ]
     },
     "execution_count": 18,
     "metadata": {},
     "output_type": "execute_result"
    }
   ],
   "source": [
    "msft.log_ret.cumsum().apply(np.exp)"
   ]
  },
  {
   "cell_type": "markdown",
   "id": "8e5d871b-4418-4c98-8a0e-6bf1420dc408",
   "metadata": {},
   "source": [
    "### CAGR"
   ]
  },
  {
   "cell_type": "code",
   "execution_count": 23,
   "id": "c198c5a8-10da-4fc0-82ba-cd971df26400",
   "metadata": {},
   "outputs": [
    {
     "data": {
      "text/plain": [
       "0.2610662020925356"
      ]
     },
     "execution_count": 23,
     "metadata": {},
     "output_type": "execute_result"
    }
   ],
   "source": [
    "(msft.Price.iloc[-1]/msft.Price.iloc[0])**(1/((msft.index[-1] - msft.index[0]).days / 365.25)) -1\n",
    "#기존의 단순 수익율을 활용하여 구했던 연평균 성장률 공식"
   ]
  },
  {
   "cell_type": "code",
   "execution_count": 30,
   "id": "9485a08d-8f6f-43d3-b2bf-2dd40ba96652",
   "metadata": {},
   "outputs": [
    {
     "data": {
      "text/plain": [
       "251.67591240875913"
      ]
     },
     "execution_count": 30,
     "metadata": {},
     "output_type": "execute_result"
    }
   ],
   "source": [
    "#대안으로 일일 로그 수익률의 평균을 사용하여 연평균 수익율을 계산할 수 있다.\n",
    "#그러기 위해서는 각 해의 거래일을 알아야한다. 연간 평균 거래일 계산하기. msft.Returns.count()는 단순수익률이 나타나는 행의 개수 구하기 -> 거래일\n",
    "trading_days_year = msft.Returns.count() / ((msft.index[-1] - msft.index[0]).days / 365.25)\n",
    "trading_days_year"
   ]
  },
  {
   "cell_type": "code",
   "execution_count": 31,
   "id": "a5bf6c12-e802-49ba-99be-d4328f55f503",
   "metadata": {},
   "outputs": [
    {
     "data": {
      "text/plain": [
       "0.26106620209253495"
      ]
     },
     "execution_count": 31,
     "metadata": {},
     "output_type": "execute_result"
    }
   ],
   "source": [
    "np.exp(msft.log_ret.mean() * trading_days_year) - 1  \n",
    "#exp()함수에 로그수익률의 평균과 연간 평균 거래일을 곱한 값을 넣어 계산해준다"
   ]
  },
  {
   "cell_type": "code",
   "execution_count": 32,
   "id": "a401ebef-4bf2-43b3-99bf-040f590b6c54",
   "metadata": {},
   "outputs": [
    {
     "data": {
      "text/plain": [
       "0.2700274514962822"
      ]
     },
     "execution_count": 32,
     "metadata": {},
     "output_type": "execute_result"
    }
   ],
   "source": [
    "msft.Returns.mean() * trading_days_year #단순 수익율로는 정확한 값을 구할 수 없다!!!!!"
   ]
  },
  {
   "cell_type": "code",
   "execution_count": null,
   "id": "c38c9c29-61cc-4d20-a7b9-057b401d0d06",
   "metadata": {},
   "outputs": [],
   "source": []
  }
 ],
 "metadata": {
  "kernelspec": {
   "display_name": "Python 3 (ipykernel)",
   "language": "python",
   "name": "python3"
  },
  "language_info": {
   "codemirror_mode": {
    "name": "ipython",
    "version": 3
   },
   "file_extension": ".py",
   "mimetype": "text/x-python",
   "name": "python",
   "nbconvert_exporter": "python",
   "pygments_lexer": "ipython3",
   "version": "3.9.13"
  }
 },
 "nbformat": 4,
 "nbformat_minor": 5
}
