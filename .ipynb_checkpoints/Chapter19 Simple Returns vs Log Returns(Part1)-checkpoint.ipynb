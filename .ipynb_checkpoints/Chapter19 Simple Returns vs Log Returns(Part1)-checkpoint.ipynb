{
 "cells": [
  {
   "cell_type": "markdown",
   "id": "28cb7d7a-5132-4fa8-8846-2b344be58d0f",
   "metadata": {},
   "source": [
    "로그 수익률이 단순 수익률보다 유용하게 쓰이는 몇 가지 이유가 있다."
   ]
  },
  {
   "cell_type": "code",
   "execution_count": 1,
   "id": "22b7f727-d784-418b-aabc-aed444103ef2",
   "metadata": {},
   "outputs": [],
   "source": [
    "import pandas as pd\n",
    "import numpy as np\n",
    "pd.options.display.float_format = '{:.6}'.format"
   ]
  },
  {
   "cell_type": "code",
   "execution_count": 2,
   "id": "1af025ae-0a5a-4006-8321-8f1c22e0d83c",
   "metadata": {},
   "outputs": [
    {
     "data": {
      "text/html": [
       "<div>\n",
       "<style scoped>\n",
       "    .dataframe tbody tr th:only-of-type {\n",
       "        vertical-align: middle;\n",
       "    }\n",
       "\n",
       "    .dataframe tbody tr th {\n",
       "        vertical-align: top;\n",
       "    }\n",
       "\n",
       "    .dataframe thead th {\n",
       "        text-align: right;\n",
       "    }\n",
       "</style>\n",
       "<table border=\"1\" class=\"dataframe\">\n",
       "  <thead>\n",
       "    <tr style=\"text-align: right;\">\n",
       "      <th></th>\n",
       "      <th>Price</th>\n",
       "    </tr>\n",
       "  </thead>\n",
       "  <tbody>\n",
       "    <tr>\n",
       "      <th>0</th>\n",
       "      <td>100</td>\n",
       "    </tr>\n",
       "    <tr>\n",
       "      <th>1</th>\n",
       "      <td>50</td>\n",
       "    </tr>\n",
       "    <tr>\n",
       "      <th>2</th>\n",
       "      <td>90</td>\n",
       "    </tr>\n",
       "  </tbody>\n",
       "</table>\n",
       "</div>"
      ],
      "text/plain": [
       "   Price\n",
       "0    100\n",
       "1     50\n",
       "2     90"
      ]
     },
     "execution_count": 2,
     "metadata": {},
     "output_type": "execute_result"
    }
   ],
   "source": [
    "df = pd.DataFrame(data = [100, 50 , 90], columns = [\"Price\"])\n",
    "df"
   ]
  },
  {
   "cell_type": "code",
   "execution_count": 3,
   "id": "bb0accb4-a4b8-4021-a9f5-3338723f1f6f",
   "metadata": {},
   "outputs": [],
   "source": [
    "df[\"SR\"] = df.Price.pct_change() # 단순 수익률"
   ]
  },
  {
   "cell_type": "code",
   "execution_count": 4,
   "id": "887cbd6a-11f6-4393-b253-a7fbd9db6982",
   "metadata": {},
   "outputs": [],
   "source": [
    "df[\"LR\"] = np.log(df.Price / df.Price.shift())"
   ]
  },
  {
   "cell_type": "code",
   "execution_count": 5,
   "id": "d079c666-7b40-41e7-bee7-8ac4ef4ad252",
   "metadata": {},
   "outputs": [
    {
     "data": {
      "text/html": [
       "<div>\n",
       "<style scoped>\n",
       "    .dataframe tbody tr th:only-of-type {\n",
       "        vertical-align: middle;\n",
       "    }\n",
       "\n",
       "    .dataframe tbody tr th {\n",
       "        vertical-align: top;\n",
       "    }\n",
       "\n",
       "    .dataframe thead th {\n",
       "        text-align: right;\n",
       "    }\n",
       "</style>\n",
       "<table border=\"1\" class=\"dataframe\">\n",
       "  <thead>\n",
       "    <tr style=\"text-align: right;\">\n",
       "      <th></th>\n",
       "      <th>Price</th>\n",
       "      <th>SR</th>\n",
       "      <th>LR</th>\n",
       "    </tr>\n",
       "  </thead>\n",
       "  <tbody>\n",
       "    <tr>\n",
       "      <th>0</th>\n",
       "      <td>100</td>\n",
       "      <td>NaN</td>\n",
       "      <td>NaN</td>\n",
       "    </tr>\n",
       "    <tr>\n",
       "      <th>1</th>\n",
       "      <td>50</td>\n",
       "      <td>-0.5</td>\n",
       "      <td>-0.693147</td>\n",
       "    </tr>\n",
       "    <tr>\n",
       "      <th>2</th>\n",
       "      <td>90</td>\n",
       "      <td>0.8</td>\n",
       "      <td>0.587787</td>\n",
       "    </tr>\n",
       "  </tbody>\n",
       "</table>\n",
       "</div>"
      ],
      "text/plain": [
       "   Price   SR        LR\n",
       "0    100  NaN       NaN\n",
       "1     50 -0.5 -0.693147\n",
       "2     90  0.8  0.587787"
      ]
     },
     "execution_count": 5,
     "metadata": {},
     "output_type": "execute_result"
    }
   ],
   "source": [
    "df"
   ]
  },
  {
   "cell_type": "code",
   "execution_count": 6,
   "id": "693b10f8-a36e-4707-b3fb-94542b4ad747",
   "metadata": {},
   "outputs": [
    {
     "data": {
      "text/plain": [
       "2"
      ]
     },
     "execution_count": 6,
     "metadata": {},
     "output_type": "execute_result"
    }
   ],
   "source": [
    "periods = df.SR.count()\n",
    "periods"
   ]
  },
  {
   "cell_type": "code",
   "execution_count": 7,
   "id": "6a5e8c30-b3ab-487c-82fa-c6792a8f5947",
   "metadata": {},
   "outputs": [
    {
     "data": {
      "text/plain": [
       "0.15000000000000002"
      ]
     },
     "execution_count": 7,
     "metadata": {},
     "output_type": "execute_result"
    }
   ],
   "source": [
    "#단순 수익율의 산술평균으로 넘어가보자\n",
    "mean_sr = df.SR.mean()\n",
    "mean_sr\n",
    "#놀랍게도 결과는 + 15% 그러니까 1년에 천원을 잃어도 이 산술평균 수익률은 +15%니 굉장히 혼란스럽다.\n",
    "#왜냐면 (-50%) (+80%) 단순히 이렇게만 계산되어있는데 -50%는 기준치가 100이었고 80%는 기준치가 50이었기때문이다\n",
    "#단순 수익률은 이 변화와 기존 베이스를 고려하지 않아서 굉장히 혼동을 주는 산술평균이 나온다 "
   ]
  },
  {
   "cell_type": "code",
   "execution_count": 8,
   "id": "135e3987-cbda-4e85-840d-10271638e0e2",
   "metadata": {},
   "outputs": [
    {
     "data": {
      "text/plain": [
       "132.24999999999997"
      ]
     },
     "execution_count": 8,
     "metadata": {},
     "output_type": "execute_result"
    }
   ],
   "source": [
    "#그러므로 전에 배웠듯이 추가 계산에는 단순 수익률의 산술평균을 사용할 수 없다!!!!!!!!!!!!!\n",
    "100 * (1 + mean_sr) ** periods\n",
    "# 90이 나와야하는데 132가 나옴"
   ]
  },
  {
   "cell_type": "code",
   "execution_count": 9,
   "id": "2af433fd-c2ea-4216-8d7b-9b7ea3d33f44",
   "metadata": {},
   "outputs": [
    {
     "data": {
      "text/plain": [
       "-0.05131670194948623"
      ]
     },
     "execution_count": 9,
     "metadata": {},
     "output_type": "execute_result"
    }
   ],
   "source": [
    "#산술평균 대신 단순 수익률을 합산해 기하 평균을 도출할 수 있다.\n",
    "#prod() -> 모든 해당되는 수를 곱함\n",
    "geo_mean = (1 + df.SR).prod() ** (1 / periods) - 1\n",
    "geo_mean"
   ]
  },
  {
   "cell_type": "code",
   "execution_count": 11,
   "id": "4b199ed7-82d8-4d2f-9f3a-acf380f617b8",
   "metadata": {},
   "outputs": [
    {
     "data": {
      "text/plain": [
       "89.99999999999999"
      ]
     },
     "execution_count": 11,
     "metadata": {},
     "output_type": "execute_result"
    }
   ],
   "source": [
    "100 * (1 + geo_mean) ** periods #correct!!!!!!\n",
    "#2년에 걸쳐 10달러를 잃었고 기하 평균은 -5%인 것이다."
   ]
  },
  {
   "cell_type": "code",
   "execution_count": 14,
   "id": "5b900f20-3310-46ce-b53a-d2883cd8d542",
   "metadata": {},
   "outputs": [
    {
     "data": {
      "text/plain": [
       "-0.10536051565782623"
      ]
     },
     "execution_count": 14,
     "metadata": {},
     "output_type": "execute_result"
    }
   ],
   "source": [
    "#로그 수익률의 총 합산한 가격\n",
    "sum_lr = df.LR.sum()\n",
    "sum_lr"
   ]
  },
  {
   "cell_type": "code",
   "execution_count": 15,
   "id": "79fbcef9-6bd9-4db2-83a3-dd88ba9de554",
   "metadata": {},
   "outputs": [
    {
     "data": {
      "text/plain": [
       "90.0"
      ]
     },
     "execution_count": 15,
     "metadata": {},
     "output_type": "execute_result"
    }
   ],
   "source": [
    "100 * np.exp(sum_lr)"
   ]
  },
  {
   "cell_type": "code",
   "execution_count": 18,
   "id": "713a0a8b-231b-400a-99ad-3cc00c4ef062",
   "metadata": {},
   "outputs": [
    {
     "data": {
      "text/plain": [
       "-0.05268025782891311"
      ]
     },
     "execution_count": 18,
     "metadata": {},
     "output_type": "execute_result"
    }
   ],
   "source": [
    "mean_lr = df.LR.mean()\n",
    "mean_lr"
   ]
  },
  {
   "cell_type": "code",
   "execution_count": 19,
   "id": "c54896b2-0290-49ce-8b56-56c557abf0ec",
   "metadata": {},
   "outputs": [
    {
     "data": {
      "text/plain": [
       "90.0"
      ]
     },
     "execution_count": 19,
     "metadata": {},
     "output_type": "execute_result"
    }
   ],
   "source": [
    "100 * np.exp(mean_lr * periods)"
   ]
  },
  {
   "cell_type": "code",
   "execution_count": null,
   "id": "c29d234f-9c19-431e-90bd-823f24c37a2b",
   "metadata": {},
   "outputs": [],
   "source": []
  }
 ],
 "metadata": {
  "kernelspec": {
   "display_name": "Python 3 (ipykernel)",
   "language": "python",
   "name": "python3"
  },
  "language_info": {
   "codemirror_mode": {
    "name": "ipython",
    "version": 3
   },
   "file_extension": ".py",
   "mimetype": "text/x-python",
   "name": "python",
   "nbconvert_exporter": "python",
   "pygments_lexer": "ipython3",
   "version": "3.9.13"
  }
 },
 "nbformat": 4,
 "nbformat_minor": 5
}
