{
 "cells": [
  {
   "cell_type": "code",
   "execution_count": 1,
   "id": "a7390b4c-564a-46c3-8782-7b850c9eeb7c",
   "metadata": {},
   "outputs": [],
   "source": [
    "import pandas as pd\n",
    "import numpy as np\n",
    "import matplotlib.pyplot as plt\n",
    "pd.options.display.float_format = '{:.4f}'.format\n",
    "plt.style.use(\"seaborn-v0_8\")"
   ]
  },
  {
   "cell_type": "code",
   "execution_count": 2,
   "id": "ae878914-bb07-4745-ac03-48197fbb0604",
   "metadata": {},
   "outputs": [
    {
     "data": {
      "text/html": [
       "<div>\n",
       "<style scoped>\n",
       "    .dataframe tbody tr th:only-of-type {\n",
       "        vertical-align: middle;\n",
       "    }\n",
       "\n",
       "    .dataframe tbody tr th {\n",
       "        vertical-align: top;\n",
       "    }\n",
       "\n",
       "    .dataframe thead th {\n",
       "        text-align: right;\n",
       "    }\n",
       "</style>\n",
       "<table border=\"1\" class=\"dataframe\">\n",
       "  <thead>\n",
       "    <tr style=\"text-align: right;\">\n",
       "      <th></th>\n",
       "      <th>Price</th>\n",
       "      <th>Returns</th>\n",
       "    </tr>\n",
       "    <tr>\n",
       "      <th>Date</th>\n",
       "      <th></th>\n",
       "      <th></th>\n",
       "    </tr>\n",
       "  </thead>\n",
       "  <tbody>\n",
       "    <tr>\n",
       "      <th>2014-10-01</th>\n",
       "      <td>45.9000</td>\n",
       "      <td>NaN</td>\n",
       "    </tr>\n",
       "    <tr>\n",
       "      <th>2014-10-02</th>\n",
       "      <td>45.7600</td>\n",
       "      <td>-0.0031</td>\n",
       "    </tr>\n",
       "    <tr>\n",
       "      <th>2014-10-03</th>\n",
       "      <td>46.0900</td>\n",
       "      <td>0.0072</td>\n",
       "    </tr>\n",
       "    <tr>\n",
       "      <th>2014-10-06</th>\n",
       "      <td>46.0900</td>\n",
       "      <td>0.0000</td>\n",
       "    </tr>\n",
       "    <tr>\n",
       "      <th>2014-10-07</th>\n",
       "      <td>45.5300</td>\n",
       "      <td>-0.0122</td>\n",
       "    </tr>\n",
       "    <tr>\n",
       "      <th>...</th>\n",
       "      <td>...</td>\n",
       "      <td>...</td>\n",
       "    </tr>\n",
       "    <tr>\n",
       "      <th>2024-02-12</th>\n",
       "      <td>415.2600</td>\n",
       "      <td>-0.0126</td>\n",
       "    </tr>\n",
       "    <tr>\n",
       "      <th>2024-02-13</th>\n",
       "      <td>406.3200</td>\n",
       "      <td>-0.0215</td>\n",
       "    </tr>\n",
       "    <tr>\n",
       "      <th>2024-02-14</th>\n",
       "      <td>409.4900</td>\n",
       "      <td>0.0078</td>\n",
       "    </tr>\n",
       "    <tr>\n",
       "      <th>2024-02-15</th>\n",
       "      <td>406.5600</td>\n",
       "      <td>-0.0072</td>\n",
       "    </tr>\n",
       "    <tr>\n",
       "      <th>2024-02-16</th>\n",
       "      <td>404.0600</td>\n",
       "      <td>-0.0061</td>\n",
       "    </tr>\n",
       "  </tbody>\n",
       "</table>\n",
       "<p>2361 rows × 2 columns</p>\n",
       "</div>"
      ],
      "text/plain": [
       "              Price  Returns\n",
       "Date                        \n",
       "2014-10-01  45.9000      NaN\n",
       "2014-10-02  45.7600  -0.0031\n",
       "2014-10-03  46.0900   0.0072\n",
       "2014-10-06  46.0900   0.0000\n",
       "2014-10-07  45.5300  -0.0122\n",
       "...             ...      ...\n",
       "2024-02-12 415.2600  -0.0126\n",
       "2024-02-13 406.3200  -0.0215\n",
       "2024-02-14 409.4900   0.0078\n",
       "2024-02-15 406.5600  -0.0072\n",
       "2024-02-16 404.0600  -0.0061\n",
       "\n",
       "[2361 rows x 2 columns]"
      ]
     },
     "execution_count": 2,
     "metadata": {},
     "output_type": "execute_result"
    }
   ],
   "source": [
    "msft = pd.read_csv(\"msft.csv\", index_col = \"Date\", parse_dates = [\"Date\"])\n",
    "msft"
   ]
  },
  {
   "cell_type": "code",
   "execution_count": 3,
   "id": "5b258bf0-0aa3-4eb8-99ec-87b510e9515c",
   "metadata": {},
   "outputs": [
    {
     "data": {
      "text/html": [
       "<div>\n",
       "<style scoped>\n",
       "    .dataframe tbody tr th:only-of-type {\n",
       "        vertical-align: middle;\n",
       "    }\n",
       "\n",
       "    .dataframe tbody tr th {\n",
       "        vertical-align: top;\n",
       "    }\n",
       "\n",
       "    .dataframe thead th {\n",
       "        text-align: right;\n",
       "    }\n",
       "</style>\n",
       "<table border=\"1\" class=\"dataframe\">\n",
       "  <thead>\n",
       "    <tr style=\"text-align: right;\">\n",
       "      <th></th>\n",
       "      <th>Price</th>\n",
       "      <th>Returns</th>\n",
       "      <th>log_ret</th>\n",
       "    </tr>\n",
       "    <tr>\n",
       "      <th>Date</th>\n",
       "      <th></th>\n",
       "      <th></th>\n",
       "      <th></th>\n",
       "    </tr>\n",
       "  </thead>\n",
       "  <tbody>\n",
       "    <tr>\n",
       "      <th>2014-10-01</th>\n",
       "      <td>45.9000</td>\n",
       "      <td>NaN</td>\n",
       "      <td>NaN</td>\n",
       "    </tr>\n",
       "    <tr>\n",
       "      <th>2014-10-02</th>\n",
       "      <td>45.7600</td>\n",
       "      <td>-0.0031</td>\n",
       "      <td>-0.0031</td>\n",
       "    </tr>\n",
       "    <tr>\n",
       "      <th>2014-10-03</th>\n",
       "      <td>46.0900</td>\n",
       "      <td>0.0072</td>\n",
       "      <td>0.0072</td>\n",
       "    </tr>\n",
       "    <tr>\n",
       "      <th>2014-10-06</th>\n",
       "      <td>46.0900</td>\n",
       "      <td>0.0000</td>\n",
       "      <td>0.0000</td>\n",
       "    </tr>\n",
       "    <tr>\n",
       "      <th>2014-10-07</th>\n",
       "      <td>45.5300</td>\n",
       "      <td>-0.0122</td>\n",
       "      <td>-0.0122</td>\n",
       "    </tr>\n",
       "    <tr>\n",
       "      <th>...</th>\n",
       "      <td>...</td>\n",
       "      <td>...</td>\n",
       "      <td>...</td>\n",
       "    </tr>\n",
       "    <tr>\n",
       "      <th>2024-02-12</th>\n",
       "      <td>415.2600</td>\n",
       "      <td>-0.0126</td>\n",
       "      <td>-0.0127</td>\n",
       "    </tr>\n",
       "    <tr>\n",
       "      <th>2024-02-13</th>\n",
       "      <td>406.3200</td>\n",
       "      <td>-0.0215</td>\n",
       "      <td>-0.0218</td>\n",
       "    </tr>\n",
       "    <tr>\n",
       "      <th>2024-02-14</th>\n",
       "      <td>409.4900</td>\n",
       "      <td>0.0078</td>\n",
       "      <td>0.0078</td>\n",
       "    </tr>\n",
       "    <tr>\n",
       "      <th>2024-02-15</th>\n",
       "      <td>406.5600</td>\n",
       "      <td>-0.0072</td>\n",
       "      <td>-0.0072</td>\n",
       "    </tr>\n",
       "    <tr>\n",
       "      <th>2024-02-16</th>\n",
       "      <td>404.0600</td>\n",
       "      <td>-0.0061</td>\n",
       "      <td>-0.0062</td>\n",
       "    </tr>\n",
       "  </tbody>\n",
       "</table>\n",
       "<p>2361 rows × 3 columns</p>\n",
       "</div>"
      ],
      "text/plain": [
       "              Price  Returns  log_ret\n",
       "Date                                 \n",
       "2014-10-01  45.9000      NaN      NaN\n",
       "2014-10-02  45.7600  -0.0031  -0.0031\n",
       "2014-10-03  46.0900   0.0072   0.0072\n",
       "2014-10-06  46.0900   0.0000   0.0000\n",
       "2014-10-07  45.5300  -0.0122  -0.0122\n",
       "...             ...      ...      ...\n",
       "2024-02-12 415.2600  -0.0126  -0.0127\n",
       "2024-02-13 406.3200  -0.0215  -0.0218\n",
       "2024-02-14 409.4900   0.0078   0.0078\n",
       "2024-02-15 406.5600  -0.0072  -0.0072\n",
       "2024-02-16 404.0600  -0.0061  -0.0062\n",
       "\n",
       "[2361 rows x 3 columns]"
      ]
     },
     "execution_count": 3,
     "metadata": {},
     "output_type": "execute_result"
    }
   ],
   "source": [
    "msft[\"log_ret\"] = np.log(msft.Price / msft.Price.shift())\n",
    "msft"
   ]
  },
  {
   "cell_type": "code",
   "execution_count": 4,
   "id": "e6f55f0d-5e80-4667-a7e9-6332259f10ef",
   "metadata": {},
   "outputs": [
    {
     "data": {
      "text/html": [
       "<div>\n",
       "<style scoped>\n",
       "    .dataframe tbody tr th:only-of-type {\n",
       "        vertical-align: middle;\n",
       "    }\n",
       "\n",
       "    .dataframe tbody tr th {\n",
       "        vertical-align: top;\n",
       "    }\n",
       "\n",
       "    .dataframe thead th {\n",
       "        text-align: right;\n",
       "    }\n",
       "</style>\n",
       "<table border=\"1\" class=\"dataframe\">\n",
       "  <thead>\n",
       "    <tr style=\"text-align: right;\">\n",
       "      <th></th>\n",
       "      <th>Price</th>\n",
       "      <th>Returns</th>\n",
       "      <th>log_ret</th>\n",
       "    </tr>\n",
       "  </thead>\n",
       "  <tbody>\n",
       "    <tr>\n",
       "      <th>count</th>\n",
       "      <td>2361.0000</td>\n",
       "      <td>2360.0000</td>\n",
       "      <td>2360.0000</td>\n",
       "    </tr>\n",
       "    <tr>\n",
       "      <th>mean</th>\n",
       "      <td>161.9817</td>\n",
       "      <td>0.0011</td>\n",
       "      <td>0.0009</td>\n",
       "    </tr>\n",
       "    <tr>\n",
       "      <th>std</th>\n",
       "      <td>103.7883</td>\n",
       "      <td>0.0174</td>\n",
       "      <td>0.0174</td>\n",
       "    </tr>\n",
       "    <tr>\n",
       "      <th>min</th>\n",
       "      <td>40.2900</td>\n",
       "      <td>-0.1474</td>\n",
       "      <td>-0.1595</td>\n",
       "    </tr>\n",
       "    <tr>\n",
       "      <th>25%</th>\n",
       "      <td>63.9800</td>\n",
       "      <td>-0.0071</td>\n",
       "      <td>-0.0071</td>\n",
       "    </tr>\n",
       "    <tr>\n",
       "      <th>50%</th>\n",
       "      <td>132.1000</td>\n",
       "      <td>0.0008</td>\n",
       "      <td>0.0008</td>\n",
       "    </tr>\n",
       "    <tr>\n",
       "      <th>75%</th>\n",
       "      <td>252.5100</td>\n",
       "      <td>0.0100</td>\n",
       "      <td>0.0099</td>\n",
       "    </tr>\n",
       "    <tr>\n",
       "      <th>max</th>\n",
       "      <td>420.5500</td>\n",
       "      <td>0.1422</td>\n",
       "      <td>0.1329</td>\n",
       "    </tr>\n",
       "  </tbody>\n",
       "</table>\n",
       "</div>"
      ],
      "text/plain": [
       "          Price   Returns   log_ret\n",
       "count 2361.0000 2360.0000 2360.0000\n",
       "mean   161.9817    0.0011    0.0009\n",
       "std    103.7883    0.0174    0.0174\n",
       "min     40.2900   -0.1474   -0.1595\n",
       "25%     63.9800   -0.0071   -0.0071\n",
       "50%    132.1000    0.0008    0.0008\n",
       "75%    252.5100    0.0100    0.0099\n",
       "max    420.5500    0.1422    0.1329"
      ]
     },
     "execution_count": 4,
     "metadata": {},
     "output_type": "execute_result"
    }
   ],
   "source": [
    "msft.describe()"
   ]
  },
  {
   "cell_type": "code",
   "execution_count": 20,
   "id": "7f37f3c7-9952-425b-af41-282c65e34827",
   "metadata": {},
   "outputs": [
    {
     "data": {
      "image/png": "[encoded data removed]",
      "text/plain": [
       "<Figure size 1500x800 with 1 Axes>"
      ]
     },
     "metadata": {},
     "output_type": "display_data"
    }
   ],
   "source": [
    "#하루 평균 수익율의 빈도수를 나타내는 표 \n",
    "msft.log_ret.plot(kind = \"hist\", figsize = (15,8), bins = 100, fontsize = 15, density = False) \n",
    "#False 시 절대 도수들로 이뤄진 도수 분포도이며 True로 바꿀 시 정규화 할 수 있다.\n",
    "plt.xlabel(\"Daily Returns\", fontsize = 15)\n",
    "plt.ylabel(\"Frequency\", fontsize = 15)\n",
    "plt.title(\"Frequency Distribution of Returns\", fontsize = 20)\n",
    "plt.show()"
   ]
  },
  {
   "cell_type": "code",
   "execution_count": 9,
   "id": "5d3c205c-41c6-438e-8753-a4b045d185b1",
   "metadata": {},
   "outputs": [
    {
     "data": {
      "text/plain": [
       "0.0009216517904377777"
      ]
     },
     "execution_count": 9,
     "metadata": {},
     "output_type": "execute_result"
    }
   ],
   "source": [
    "mu = msft.log_ret.mean()\n",
    "mu"
   ]
  },
  {
   "cell_type": "code",
   "execution_count": 10,
   "id": "5033fc77-b06c-416f-8f4f-d61d23952a01",
   "metadata": {},
   "outputs": [
    {
     "data": {
      "text/plain": [
       "0.01736957302587373"
      ]
     },
     "execution_count": 10,
     "metadata": {},
     "output_type": "execute_result"
    }
   ],
   "source": [
    "sigma = msft.log_ret.std()\n",
    "sigma"
   ]
  },
  {
   "cell_type": "code",
   "execution_count": 11,
   "id": "55df90f3-68af-48fb-a0c4-87b0899572a6",
   "metadata": {},
   "outputs": [],
   "source": [
    "import scipy.stats as stats"
   ]
  },
  {
   "cell_type": "code",
   "execution_count": 13,
   "id": "2519c975-f609-446c-9552-e1b327fc3602",
   "metadata": {},
   "outputs": [
    {
     "data": {
      "text/plain": [
       "-0.14510819275750858"
      ]
     },
     "execution_count": 13,
     "metadata": {},
     "output_type": "execute_result"
    }
   ],
   "source": [
    "stats.skew(msft.log_ret.dropna())\n",
    "#skew() 메서드는 데이터의 왜도(skewness)를 계산하는 데 사용됩니다. \n",
    "#왜도는 데이터의 분포가 평균 주위에 얼마나 비대칭적으로 분포하는지를 나타내는 지표입니다. \n",
    "#왜도는 분포의 대칭성에 대한 측정으로, 왜도 값이 0에 가까울수록 데이터 분포가 대칭적이고, \n",
    "#왜도 값이 양수이면 오른쪽으로 긴 꼬리가 있으며,음수이면 왼쪽으로 긴 꼬리가 있습니다."
   ]
  },
  {
   "cell_type": "code",
   "execution_count": 15,
   "id": "b93c9ebc-94a5-4b26-a7ab-a9a4d8392486",
   "metadata": {},
   "outputs": [
    {
     "data": {
      "text/plain": [
       "7.948131585676901"
      ]
     },
     "execution_count": 15,
     "metadata": {},
     "output_type": "execute_result"
    }
   ],
   "source": [
    "stats.kurtosis(msft.log_ret.dropna(), fisher = True)\n",
    "#kurtosis() 메서드는 데이터의 첨도(kurtosis)를 계산하는 데 사용됩니다. \n",
    "#첨도는 데이터 분포의 꼬리 부분이 얼마나 두껍거나 가늘게 분포하는지를 나타내는 지표입니다. \n",
    "#첨도는 데이터의 뾰족한 정도를 나타내며, \n",
    "#일반적으로 정규 분포와 비교하여 분포의 뾰족한 정도를 측정합니다. \n",
    "#첨도가 0에 가까울수록 정규 분포에 가깝고, \n",
    "#양수이면 정규 분포보다 뾰족하고, 음수이면 정규 분포보다 더 평평한 분포입니다."
   ]
  },
  {
   "cell_type": "code",
   "execution_count": 16,
   "id": "92975da0-ada9-41c6-9563-99dc841d8bdc",
   "metadata": {},
   "outputs": [
    {
     "data": {
      "text/plain": [
       "array([-0.15945341, -0.15942417, -0.15939493, ...,  0.1328705 ,\n",
       "        0.13289974,  0.13292898])"
      ]
     },
     "execution_count": 16,
     "metadata": {},
     "output_type": "execute_result"
    }
   ],
   "source": [
    "x = np.linspace(msft.log_ret.min(), msft.log_ret.max(), 10000)\n",
    "x"
   ]
  },
  {
   "cell_type": "code",
   "execution_count": 18,
   "id": "28793b95-f327-4295-aab1-3e29836f0328",
   "metadata": {},
   "outputs": [
    {
     "data": {
      "text/plain": [
       "array([7.06765514e-18, 7.17836041e-18, 7.29077907e-18, ...,\n",
       "       6.76203556e-12, 6.67609995e-12, 6.59123777e-12])"
      ]
     },
     "execution_count": 18,
     "metadata": {},
     "output_type": "execute_result"
    }
   ],
   "source": [
    "y = stats.norm.pdf(x, loc = mu, scale = sigma)\n",
    "y"
   ]
  },
  {
   "cell_type": "code",
   "execution_count": 26,
   "id": "d273f65f-2831-4f4a-abc1-ee6e34ed9a6b",
   "metadata": {},
   "outputs": [
    {
     "data": {
      "image/png": "[encoded data removed]",
      "text/plain": [
       "<Figure size 2000x800 with 1 Axes>"
      ]
     },
     "metadata": {},
     "output_type": "display_data"
    }
   ],
   "source": [
    "plt.figure(figsize = (20, 8))\n",
    "plt.hist(msft.log_ret, bins = 500, density = True, label = \"Frequency Distribution of daily Returns\")\n",
    "plt.plot(x, y, linewidth = 3, color = \"red\", label = \"Normal Distribution\")\n",
    "plt.title(\"Normal Distribution\", fontsize = 20)\n",
    "plt.xlabel(\"Daily Returns\", fontsize= 15)\n",
    "plt.ylabel(\"pdf\", fontsize= 15)\n",
    "plt.legend(fontsize = 15)\n",
    "plt.show()\n",
    "#파란색 => 도수분포\n",
    "#붉은선 => 정규분포\n",
    "#density = Ture를 넣음으로써 붉은선의 정규분포와 비교 가능하게 만들었다."
   ]
  },
  {
   "cell_type": "code",
   "execution_count": 27,
   "id": "7216abb4-1151-461d-8461-434c20cc9253",
   "metadata": {},
   "outputs": [],
   "source": [
    "z_stat, p_value = stats.normaltest(msft.log_ret.dropna())"
   ]
  },
  {
   "cell_type": "code",
   "execution_count": 28,
   "id": "7e3f9767-8553-4654-9bd2-0e6687e08ea4",
   "metadata": {},
   "outputs": [
    {
     "data": {
      "text/plain": [
       "376.3328618534745"
      ]
     },
     "execution_count": 28,
     "metadata": {},
     "output_type": "execute_result"
    }
   ],
   "source": [
    "z_stat"
   ]
  },
  {
   "cell_type": "code",
   "execution_count": 29,
   "id": "b4e97068-ddce-4a22-987f-797476fdffad",
   "metadata": {},
   "outputs": [
    {
     "data": {
      "text/plain": [
       "1.9070293149271833e-82"
      ]
     },
     "execution_count": 29,
     "metadata": {},
     "output_type": "execute_result"
    }
   ],
   "source": [
    "p_value"
   ]
  },
  {
   "cell_type": "code",
   "execution_count": 30,
   "id": "0101421b-4a29-4e88-a267-6ec556a7ed34",
   "metadata": {},
   "outputs": [
    {
     "data": {
      "text/plain": [
       "0.0"
      ]
     },
     "execution_count": 30,
     "metadata": {},
     "output_type": "execute_result"
    }
   ],
   "source": [
    "round(p_value, 10)"
   ]
  },
  {
   "cell_type": "markdown",
   "id": "327ba252-d573-4cf1-a6fc-0fd877b5bc08",
   "metadata": {},
   "source": [
    "주어진 문제는 Microsoft(MSFT) 주식의 수익률이 정규 분포를 따르는지 여부를 가설 검정을 통해 확인하는 것이다.\r\n",
    "\r\n",
    "가설 검정은 보통 귀무 가설(H0)과 대립 가설(H1)을 설정하여 이지며, 다음과 같다.다:\r\n",
    "\r\n",
    "귀무 가설(H0): MSFT 주식의 수익률은 정규 분포를 따른다.\r\n",
    "대립 가설(H1): MSFT 주식의 수익률은 정규 분포를 따르지 있습니다. 일반적으로는 Shapiro-Wilk 검정 또는 Kolmogorov-Smirnov 검정과 같은 정규성 검정 통계 방법을 사용하여 수행할 수 있습니다. 이러한 검정을 통해 p-value를 계산하고, 유의 수준 (예: 0.05)과 비교하여 귀무 가설을 기각하거나 기각하지 다. 있습니다.\r\n",
    "\r\n",
    "만약 p-value가 유의 수준보다 작다면, 귀무 가설을 기각하고 대립 가설을 채택합니다. 즉, MSFT 주식의 수익률은 정규 분는다르지 않습니다. 그러나 p-value가 유의 수준보다 크거나 같으면, 귀무 가설을 기각할 수 없으므로, MSFT 주식의 수익률은 정규 분포를 따른다는 적다.거가 없습니다음과 같이 해석된다.행될 수 있습니다:\r\n",
    "\r\n",
    "만약 p-value가 유의 수준보다 작으면, \"MSFT 주식의 수익률은 정규 분포를 따르지 않음\"을 고, 도출할 수 있습니다.\r\n",
    "만약 p-value가 유의 수준보다 크거나 같으면, \"MSFT 주식의 수익률은 정규 분포를 따른다는 적절한 증거가 없음 있다.로 도출할 수 있습니다.\r\n",
    "이러한 가설 검정을 통해 MSFT 주식의 수익률이 정규 분포를 따르다.부를 결정할 수 있습니다.."
   ]
  },
  {
   "cell_type": "code",
   "execution_count": null,
   "id": "578fbb00-501d-43bf-9dda-54efd198dcff",
   "metadata": {},
   "outputs": [],
   "source": []
  }
 ],
 "metadata": {
  "kernelspec": {
   "display_name": "Python 3 (ipykernel)",
   "language": "python",
   "name": "python3"
  },
  "language_info": {
   "codemirror_mode": {
    "name": "ipython",
    "version": 3
   },
   "file_extension": ".py",
   "mimetype": "text/x-python",
   "name": "python",
   "nbconvert_exporter": "python",
   "pygments_lexer": "ipython3",
   "version": "3.9.13"
  }
 },
 "nbformat": 4,
 "nbformat_minor": 5
}
