{
 "cells": [
  {
   "cell_type": "markdown",
   "id": "244560d0-cc06-45f4-a155-bf1867af2192",
   "metadata": {},
   "source": [
    "# Getting the data"
   ]
  },
  {
   "cell_type": "code",
   "execution_count": 9,
   "id": "78b56477-a419-4585-8908-4fec1c88aecc",
   "metadata": {},
   "outputs": [],
   "source": [
    "import pandas as pd\n",
    "import numpy as np\n",
    "import matplotlib.pyplot as plt\n",
    "import warnings\n",
    "plt.style.use(\"seaborn-v0_8\")\n",
    "warnings.filterwarnings(\"ignore\")"
   ]
  },
  {
   "cell_type": "code",
   "execution_count": 10,
   "id": "fb2fc3f6-86b4-4973-a585-b93d13401109",
   "metadata": {},
   "outputs": [],
   "source": [
    "data = pd.read_csv(\"bitcoin.csv\", parse_dates = [\"Date\"], index_col = \"Date\")"
   ]
  },
  {
   "cell_type": "code",
   "execution_count": 11,
   "id": "e903ea50-1cd4-4120-9a4c-e63a10fc9207",
   "metadata": {},
   "outputs": [
    {
     "data": {
      "text/html": [
       "<div>\n",
       "<style scoped>\n",
       "    .dataframe tbody tr th:only-of-type {\n",
       "        vertical-align: middle;\n",
       "    }\n",
       "\n",
       "    .dataframe tbody tr th {\n",
       "        vertical-align: top;\n",
       "    }\n",
       "\n",
       "    .dataframe thead th {\n",
       "        text-align: right;\n",
       "    }\n",
       "</style>\n",
       "<table border=\"1\" class=\"dataframe\">\n",
       "  <thead>\n",
       "    <tr style=\"text-align: right;\">\n",
       "      <th></th>\n",
       "      <th>Close</th>\n",
       "      <th>Volume</th>\n",
       "    </tr>\n",
       "    <tr>\n",
       "      <th>Date</th>\n",
       "      <th></th>\n",
       "      <th></th>\n",
       "    </tr>\n",
       "  </thead>\n",
       "  <tbody>\n",
       "    <tr>\n",
       "      <th>2017-08-17 04:00:00</th>\n",
       "      <td>4308.83</td>\n",
       "      <td>47.181009</td>\n",
       "    </tr>\n",
       "    <tr>\n",
       "      <th>2017-08-17 05:00:00</th>\n",
       "      <td>4315.32</td>\n",
       "      <td>23.234916</td>\n",
       "    </tr>\n",
       "    <tr>\n",
       "      <th>2017-08-17 06:00:00</th>\n",
       "      <td>4324.35</td>\n",
       "      <td>7.229691</td>\n",
       "    </tr>\n",
       "    <tr>\n",
       "      <th>2017-08-17 07:00:00</th>\n",
       "      <td>4349.99</td>\n",
       "      <td>4.443249</td>\n",
       "    </tr>\n",
       "    <tr>\n",
       "      <th>2017-08-17 08:00:00</th>\n",
       "      <td>4360.69</td>\n",
       "      <td>0.972807</td>\n",
       "    </tr>\n",
       "    <tr>\n",
       "      <th>...</th>\n",
       "      <td>...</td>\n",
       "      <td>...</td>\n",
       "    </tr>\n",
       "    <tr>\n",
       "      <th>2021-10-07 05:00:00</th>\n",
       "      <td>54735.76</td>\n",
       "      <td>2251.122020</td>\n",
       "    </tr>\n",
       "    <tr>\n",
       "      <th>2021-10-07 06:00:00</th>\n",
       "      <td>54534.16</td>\n",
       "      <td>1783.004260</td>\n",
       "    </tr>\n",
       "    <tr>\n",
       "      <th>2021-10-07 07:00:00</th>\n",
       "      <td>54755.92</td>\n",
       "      <td>4163.431360</td>\n",
       "    </tr>\n",
       "    <tr>\n",
       "      <th>2021-10-07 08:00:00</th>\n",
       "      <td>54538.30</td>\n",
       "      <td>2049.382180</td>\n",
       "    </tr>\n",
       "    <tr>\n",
       "      <th>2021-10-07 09:00:00</th>\n",
       "      <td>53995.50</td>\n",
       "      <td>2739.153610</td>\n",
       "    </tr>\n",
       "  </tbody>\n",
       "</table>\n",
       "<p>36168 rows × 2 columns</p>\n",
       "</div>"
      ],
      "text/plain": [
       "                        Close       Volume\n",
       "Date                                      \n",
       "2017-08-17 04:00:00   4308.83    47.181009\n",
       "2017-08-17 05:00:00   4315.32    23.234916\n",
       "2017-08-17 06:00:00   4324.35     7.229691\n",
       "2017-08-17 07:00:00   4349.99     4.443249\n",
       "2017-08-17 08:00:00   4360.69     0.972807\n",
       "...                       ...          ...\n",
       "2021-10-07 05:00:00  54735.76  2251.122020\n",
       "2021-10-07 06:00:00  54534.16  1783.004260\n",
       "2021-10-07 07:00:00  54755.92  4163.431360\n",
       "2021-10-07 08:00:00  54538.30  2049.382180\n",
       "2021-10-07 09:00:00  53995.50  2739.153610\n",
       "\n",
       "[36168 rows x 2 columns]"
      ]
     },
     "execution_count": 11,
     "metadata": {},
     "output_type": "execute_result"
    }
   ],
   "source": [
    "data"
   ]
  },
  {
   "cell_type": "code",
   "execution_count": 13,
   "id": "c4e716ae-b67e-49dd-880c-5f1e198409c3",
   "metadata": {},
   "outputs": [],
   "source": [
    "data[\"returns\"] = np.log(data.Close.div(data.Close.shift(1)))\n",
    "data[\"vol_ch\"] = np.log(data.Volume.div(data.Volume.shift(1)))"
   ]
  },
  {
   "cell_type": "code",
   "execution_count": 14,
   "id": "b3fed1d7-c424-4238-b717-4d8925b9a468",
   "metadata": {},
   "outputs": [],
   "source": [
    "data.loc[data.vol_ch > 3, \"vol_ch\"] = np.nan\n",
    "data.loc[data.vol_ch < -3, \"vol_ch\"] = np.nan"
   ]
  },
  {
   "cell_type": "code",
   "execution_count": 15,
   "id": "9d6fe5cf-b3d2-4b1a-9d5f-36e566181568",
   "metadata": {},
   "outputs": [
    {
     "data": {
      "text/html": [
       "<div>\n",
       "<style scoped>\n",
       "    .dataframe tbody tr th:only-of-type {\n",
       "        vertical-align: middle;\n",
       "    }\n",
       "\n",
       "    .dataframe tbody tr th {\n",
       "        vertical-align: top;\n",
       "    }\n",
       "\n",
       "    .dataframe thead th {\n",
       "        text-align: right;\n",
       "    }\n",
       "</style>\n",
       "<table border=\"1\" class=\"dataframe\">\n",
       "  <thead>\n",
       "    <tr style=\"text-align: right;\">\n",
       "      <th></th>\n",
       "      <th>Close</th>\n",
       "      <th>Volume</th>\n",
       "      <th>returns</th>\n",
       "      <th>vol_ch</th>\n",
       "    </tr>\n",
       "    <tr>\n",
       "      <th>Date</th>\n",
       "      <th></th>\n",
       "      <th></th>\n",
       "      <th></th>\n",
       "      <th></th>\n",
       "    </tr>\n",
       "  </thead>\n",
       "  <tbody>\n",
       "    <tr>\n",
       "      <th>2017-08-17 04:00:00</th>\n",
       "      <td>4308.83</td>\n",
       "      <td>47.181009</td>\n",
       "      <td>NaN</td>\n",
       "      <td>NaN</td>\n",
       "    </tr>\n",
       "    <tr>\n",
       "      <th>2017-08-17 05:00:00</th>\n",
       "      <td>4315.32</td>\n",
       "      <td>23.234916</td>\n",
       "      <td>0.001505</td>\n",
       "      <td>-0.708335</td>\n",
       "    </tr>\n",
       "    <tr>\n",
       "      <th>2017-08-17 06:00:00</th>\n",
       "      <td>4324.35</td>\n",
       "      <td>7.229691</td>\n",
       "      <td>0.002090</td>\n",
       "      <td>-1.167460</td>\n",
       "    </tr>\n",
       "    <tr>\n",
       "      <th>2017-08-17 07:00:00</th>\n",
       "      <td>4349.99</td>\n",
       "      <td>4.443249</td>\n",
       "      <td>0.005912</td>\n",
       "      <td>-0.486810</td>\n",
       "    </tr>\n",
       "    <tr>\n",
       "      <th>2017-08-17 08:00:00</th>\n",
       "      <td>4360.69</td>\n",
       "      <td>0.972807</td>\n",
       "      <td>0.002457</td>\n",
       "      <td>-1.518955</td>\n",
       "    </tr>\n",
       "    <tr>\n",
       "      <th>...</th>\n",
       "      <td>...</td>\n",
       "      <td>...</td>\n",
       "      <td>...</td>\n",
       "      <td>...</td>\n",
       "    </tr>\n",
       "    <tr>\n",
       "      <th>2021-10-07 05:00:00</th>\n",
       "      <td>54735.76</td>\n",
       "      <td>2251.122020</td>\n",
       "      <td>-0.006146</td>\n",
       "      <td>0.439863</td>\n",
       "    </tr>\n",
       "    <tr>\n",
       "      <th>2021-10-07 06:00:00</th>\n",
       "      <td>54534.16</td>\n",
       "      <td>1783.004260</td>\n",
       "      <td>-0.003690</td>\n",
       "      <td>-0.233129</td>\n",
       "    </tr>\n",
       "    <tr>\n",
       "      <th>2021-10-07 07:00:00</th>\n",
       "      <td>54755.92</td>\n",
       "      <td>4163.431360</td>\n",
       "      <td>0.004058</td>\n",
       "      <td>0.848040</td>\n",
       "    </tr>\n",
       "    <tr>\n",
       "      <th>2021-10-07 08:00:00</th>\n",
       "      <td>54538.30</td>\n",
       "      <td>2049.382180</td>\n",
       "      <td>-0.003982</td>\n",
       "      <td>-0.708801</td>\n",
       "    </tr>\n",
       "    <tr>\n",
       "      <th>2021-10-07 09:00:00</th>\n",
       "      <td>53995.50</td>\n",
       "      <td>2739.153610</td>\n",
       "      <td>-0.010002</td>\n",
       "      <td>0.290111</td>\n",
       "    </tr>\n",
       "  </tbody>\n",
       "</table>\n",
       "<p>36168 rows × 4 columns</p>\n",
       "</div>"
      ],
      "text/plain": [
       "                        Close       Volume   returns    vol_ch\n",
       "Date                                                          \n",
       "2017-08-17 04:00:00   4308.83    47.181009       NaN       NaN\n",
       "2017-08-17 05:00:00   4315.32    23.234916  0.001505 -0.708335\n",
       "2017-08-17 06:00:00   4324.35     7.229691  0.002090 -1.167460\n",
       "2017-08-17 07:00:00   4349.99     4.443249  0.005912 -0.486810\n",
       "2017-08-17 08:00:00   4360.69     0.972807  0.002457 -1.518955\n",
       "...                       ...          ...       ...       ...\n",
       "2021-10-07 05:00:00  54735.76  2251.122020 -0.006146  0.439863\n",
       "2021-10-07 06:00:00  54534.16  1783.004260 -0.003690 -0.233129\n",
       "2021-10-07 07:00:00  54755.92  4163.431360  0.004058  0.848040\n",
       "2021-10-07 08:00:00  54538.30  2049.382180 -0.003982 -0.708801\n",
       "2021-10-07 09:00:00  53995.50  2739.153610 -0.010002  0.290111\n",
       "\n",
       "[36168 rows x 4 columns]"
      ]
     },
     "execution_count": 15,
     "metadata": {},
     "output_type": "execute_result"
    }
   ],
   "source": [
    "data"
   ]
  },
  {
   "cell_type": "code",
   "execution_count": 17,
   "id": "09b165ed-b7f4-4684-93b5-cb4049e469d5",
   "metadata": {},
   "outputs": [
    {
     "data": {
      "text/html": [
       "<div>\n",
       "<style scoped>\n",
       "    .dataframe tbody tr th:only-of-type {\n",
       "        vertical-align: middle;\n",
       "    }\n",
       "\n",
       "    .dataframe tbody tr th {\n",
       "        vertical-align: top;\n",
       "    }\n",
       "\n",
       "    .dataframe thead th {\n",
       "        text-align: right;\n",
       "    }\n",
       "</style>\n",
       "<table border=\"1\" class=\"dataframe\">\n",
       "  <thead>\n",
       "    <tr style=\"text-align: right;\">\n",
       "      <th></th>\n",
       "      <th>Close</th>\n",
       "      <th>Volume</th>\n",
       "      <th>returns</th>\n",
       "      <th>vol_ch</th>\n",
       "      <th>position</th>\n",
       "    </tr>\n",
       "    <tr>\n",
       "      <th>Date</th>\n",
       "      <th></th>\n",
       "      <th></th>\n",
       "      <th></th>\n",
       "      <th></th>\n",
       "      <th></th>\n",
       "    </tr>\n",
       "  </thead>\n",
       "  <tbody>\n",
       "    <tr>\n",
       "      <th>2017-08-17 04:00:00</th>\n",
       "      <td>4308.83</td>\n",
       "      <td>47.181009</td>\n",
       "      <td>NaN</td>\n",
       "      <td>NaN</td>\n",
       "      <td>0</td>\n",
       "    </tr>\n",
       "    <tr>\n",
       "      <th>2017-08-17 05:00:00</th>\n",
       "      <td>4315.32</td>\n",
       "      <td>23.234916</td>\n",
       "      <td>0.001505</td>\n",
       "      <td>-0.708335</td>\n",
       "      <td>0</td>\n",
       "    </tr>\n",
       "    <tr>\n",
       "      <th>2017-08-17 06:00:00</th>\n",
       "      <td>4324.35</td>\n",
       "      <td>7.229691</td>\n",
       "      <td>0.002090</td>\n",
       "      <td>-1.167460</td>\n",
       "      <td>0</td>\n",
       "    </tr>\n",
       "    <tr>\n",
       "      <th>2017-08-17 07:00:00</th>\n",
       "      <td>4349.99</td>\n",
       "      <td>4.443249</td>\n",
       "      <td>0.005912</td>\n",
       "      <td>-0.486810</td>\n",
       "      <td>0</td>\n",
       "    </tr>\n",
       "    <tr>\n",
       "      <th>2017-08-17 08:00:00</th>\n",
       "      <td>4360.69</td>\n",
       "      <td>0.972807</td>\n",
       "      <td>0.002457</td>\n",
       "      <td>-1.518955</td>\n",
       "      <td>0</td>\n",
       "    </tr>\n",
       "    <tr>\n",
       "      <th>...</th>\n",
       "      <td>...</td>\n",
       "      <td>...</td>\n",
       "      <td>...</td>\n",
       "      <td>...</td>\n",
       "      <td>...</td>\n",
       "    </tr>\n",
       "    <tr>\n",
       "      <th>2021-10-07 05:00:00</th>\n",
       "      <td>54735.76</td>\n",
       "      <td>2251.122020</td>\n",
       "      <td>-0.006146</td>\n",
       "      <td>0.439863</td>\n",
       "      <td>0</td>\n",
       "    </tr>\n",
       "    <tr>\n",
       "      <th>2021-10-07 06:00:00</th>\n",
       "      <td>54534.16</td>\n",
       "      <td>1783.004260</td>\n",
       "      <td>-0.003690</td>\n",
       "      <td>-0.233129</td>\n",
       "      <td>0</td>\n",
       "    </tr>\n",
       "    <tr>\n",
       "      <th>2021-10-07 07:00:00</th>\n",
       "      <td>54755.92</td>\n",
       "      <td>4163.431360</td>\n",
       "      <td>0.004058</td>\n",
       "      <td>0.848040</td>\n",
       "      <td>0</td>\n",
       "    </tr>\n",
       "    <tr>\n",
       "      <th>2021-10-07 08:00:00</th>\n",
       "      <td>54538.30</td>\n",
       "      <td>2049.382180</td>\n",
       "      <td>-0.003982</td>\n",
       "      <td>-0.708801</td>\n",
       "      <td>0</td>\n",
       "    </tr>\n",
       "    <tr>\n",
       "      <th>2021-10-07 09:00:00</th>\n",
       "      <td>53995.50</td>\n",
       "      <td>2739.153610</td>\n",
       "      <td>-0.010002</td>\n",
       "      <td>0.290111</td>\n",
       "      <td>0</td>\n",
       "    </tr>\n",
       "  </tbody>\n",
       "</table>\n",
       "<p>36168 rows × 5 columns</p>\n",
       "</div>"
      ],
      "text/plain": [
       "                        Close       Volume   returns    vol_ch  position\n",
       "Date                                                                    \n",
       "2017-08-17 04:00:00   4308.83    47.181009       NaN       NaN         0\n",
       "2017-08-17 05:00:00   4315.32    23.234916  0.001505 -0.708335         0\n",
       "2017-08-17 06:00:00   4324.35     7.229691  0.002090 -1.167460         0\n",
       "2017-08-17 07:00:00   4349.99     4.443249  0.005912 -0.486810         0\n",
       "2017-08-17 08:00:00   4360.69     0.972807  0.002457 -1.518955         0\n",
       "...                       ...          ...       ...       ...       ...\n",
       "2021-10-07 05:00:00  54735.76  2251.122020 -0.006146  0.439863         0\n",
       "2021-10-07 06:00:00  54534.16  1783.004260 -0.003690 -0.233129         0\n",
       "2021-10-07 07:00:00  54755.92  4163.431360  0.004058  0.848040         0\n",
       "2021-10-07 08:00:00  54538.30  2049.382180 -0.003982 -0.708801         0\n",
       "2021-10-07 09:00:00  53995.50  2739.153610 -0.010002  0.290111         0\n",
       "\n",
       "[36168 rows x 5 columns]"
      ]
     },
     "execution_count": 17,
     "metadata": {},
     "output_type": "execute_result"
    }
   ],
   "source": [
    "data[\"position\"] = 0\n",
    "data"
   ]
  },
  {
   "cell_type": "markdown",
   "id": "b55a2266-2ac7-4cb0-9f72-df1464cfc556",
   "metadata": {},
   "source": [
    "##### Buy and go Long(position = 1) if most recent returns are highly negative(cond1) and trading volume decreased(cond2)"
   ]
  },
  {
   "cell_type": "code",
   "execution_count": 18,
   "id": "26d30c2d-8e40-4f6f-ae83-ea68f4b423bf",
   "metadata": {},
   "outputs": [
    {
     "data": {
      "text/plain": [
       "-0.007813258140358005"
      ]
     },
     "execution_count": 18,
     "metadata": {},
     "output_type": "execute_result"
    }
   ],
   "source": [
    "return_thresh = np.percentile(data.returns.dropna(), 10)\n",
    "return_thresh"
   ]
  },
  {
   "cell_type": "code",
   "execution_count": 19,
   "id": "9e5b98c1-f7ce-4644-a8f0-bbe3305284ae",
   "metadata": {},
   "outputs": [
    {
     "data": {
      "text/plain": [
       "Date\n",
       "2017-08-17 04:00:00    False\n",
       "2017-08-17 05:00:00    False\n",
       "2017-08-17 06:00:00    False\n",
       "2017-08-17 07:00:00    False\n",
       "2017-08-17 08:00:00    False\n",
       "                       ...  \n",
       "2021-10-07 05:00:00    False\n",
       "2021-10-07 06:00:00    False\n",
       "2021-10-07 07:00:00    False\n",
       "2021-10-07 08:00:00    False\n",
       "2021-10-07 09:00:00     True\n",
       "Name: returns, Length: 36168, dtype: bool"
      ]
     },
     "execution_count": 19,
     "metadata": {},
     "output_type": "execute_result"
    }
   ],
   "source": [
    "cond1 = data.returns <= return_thresh\n",
    "cond1"
   ]
  },
  {
   "cell_type": "code",
   "execution_count": 20,
   "id": "b5aeaf43-44dd-4926-9124-61851d6e6c2c",
   "metadata": {},
   "outputs": [
    {
     "data": {
      "text/plain": [
       "array([-0.72895253, -0.37604441])"
      ]
     },
     "execution_count": 20,
     "metadata": {},
     "output_type": "execute_result"
    }
   ],
   "source": [
    "volume_thresh = np.percentile(data.vol_ch.dropna(), [5, 20])\n",
    "volume_thresh"
   ]
  },
  {
   "cell_type": "code",
   "execution_count": 21,
   "id": "6b8f2339-220e-4384-8ec0-a797a4a977cd",
   "metadata": {},
   "outputs": [
    {
     "data": {
      "text/plain": [
       "Date\n",
       "2017-08-17 04:00:00    False\n",
       "2017-08-17 05:00:00     True\n",
       "2017-08-17 06:00:00    False\n",
       "2017-08-17 07:00:00     True\n",
       "2017-08-17 08:00:00    False\n",
       "                       ...  \n",
       "2021-10-07 05:00:00    False\n",
       "2021-10-07 06:00:00    False\n",
       "2021-10-07 07:00:00    False\n",
       "2021-10-07 08:00:00     True\n",
       "2021-10-07 09:00:00    False\n",
       "Name: vol_ch, Length: 36168, dtype: bool"
      ]
     },
     "execution_count": 21,
     "metadata": {},
     "output_type": "execute_result"
    }
   ],
   "source": [
    "cond2 = data.vol_ch.between(volume_thresh[0], volume_thresh[1])\n",
    "cond2"
   ]
  },
  {
   "cell_type": "code",
   "execution_count": 22,
   "id": "ac077fdb-7681-4ca7-bcbf-54732be14699",
   "metadata": {},
   "outputs": [],
   "source": [
    "data.loc[cond1 & cond2, \"position\"] = 1"
   ]
  },
  {
   "cell_type": "markdown",
   "id": "86d5720e-9adc-45b9-983b-5c8e36fd4ea1",
   "metadata": {},
   "source": [
    "##### Sell and go Short (position = -1) if most recent returns are highly positive(cond3) and trading volume decreased(cond2)"
   ]
  },
  {
   "cell_type": "code",
   "execution_count": 28,
   "id": "2b3bc1e2-fba9-4d46-a427-e0b4b521e10e",
   "metadata": {},
   "outputs": [
    {
     "data": {
      "text/plain": [
       "0.008231867023808183"
      ]
     },
     "execution_count": 28,
     "metadata": {},
     "output_type": "execute_result"
    }
   ],
   "source": [
    "# getting returns threshold for highly negative returns(>= 90th percentile)\n",
    "# 상위10% 수익률을 말하는 임계값\n",
    "return_thresh = np.percentile(data.returns.dropna(), 90)\n",
    "return_thresh"
   ]
  },
  {
   "cell_type": "code",
   "execution_count": 29,
   "id": "e43f167f-b57b-4be0-8c5f-31b28a34d4b8",
   "metadata": {},
   "outputs": [
    {
     "data": {
      "text/plain": [
       "Date\n",
       "2017-08-17 04:00:00    False\n",
       "2017-08-17 05:00:00    False\n",
       "2017-08-17 06:00:00    False\n",
       "2017-08-17 07:00:00    False\n",
       "2017-08-17 08:00:00    False\n",
       "                       ...  \n",
       "2021-10-07 05:00:00    False\n",
       "2021-10-07 06:00:00    False\n",
       "2021-10-07 07:00:00    False\n",
       "2021-10-07 08:00:00    False\n",
       "2021-10-07 09:00:00    False\n",
       "Name: returns, Length: 36168, dtype: bool"
      ]
     },
     "execution_count": 29,
     "metadata": {},
     "output_type": "execute_result"
    }
   ],
   "source": [
    "cond3 = data.returns >= return_thresh\n",
    "cond3"
   ]
  },
  {
   "cell_type": "code",
   "execution_count": 30,
   "id": "20a1ab32-aa35-43d5-b158-5cd4c7828e94",
   "metadata": {},
   "outputs": [],
   "source": [
    "data.loc[cond3 & cond2, \"position\"] = -1"
   ]
  },
  {
   "cell_type": "code",
   "execution_count": 31,
   "id": "1ce7c83a-916b-4d83-883e-1b7306e99618",
   "metadata": {},
   "outputs": [
    {
     "data": {
      "text/plain": [
       "position\n",
       " 0    35526\n",
       "-1      364\n",
       " 1      278\n",
       "Name: count, dtype: int64"
      ]
     },
     "execution_count": 31,
     "metadata": {},
     "output_type": "execute_result"
    }
   ],
   "source": [
    "data.position.value_counts()"
   ]
  },
  {
   "cell_type": "code",
   "execution_count": 32,
   "id": "d7bbd229-f48f-4ca6-a7a6-f17d24c38f75",
   "metadata": {},
   "outputs": [
    {
     "data": {
      "image/png": "[encoded data removed]",
      "text/plain": [
       "<Figure size 1200x800 with 1 Axes>"
      ]
     },
     "metadata": {},
     "output_type": "display_data"
    }
   ],
   "source": [
    "data.loc[\"06-2019\", \"position\"].plot(figsize = (12, 8))\n",
    "plt.show()"
   ]
  },
  {
   "cell_type": "code",
   "execution_count": null,
   "id": "ac7a8739-76ed-4479-b4d1-122cf7712bf6",
   "metadata": {},
   "outputs": [],
   "source": []
  }
 ],
 "metadata": {
  "kernelspec": {
   "display_name": "Python 3 (ipykernel)",
   "language": "python",
   "name": "python3"
  },
  "language_info": {
   "codemirror_mode": {
    "name": "ipython",
    "version": 3
   },
   "file_extension": ".py",
   "mimetype": "text/x-python",
   "name": "python",
   "nbconvert_exporter": "python",
   "pygments_lexer": "ipython3",
   "version": "3.9.13"
  }
 },
 "nbformat": 4,
 "nbformat_minor": 5
}
