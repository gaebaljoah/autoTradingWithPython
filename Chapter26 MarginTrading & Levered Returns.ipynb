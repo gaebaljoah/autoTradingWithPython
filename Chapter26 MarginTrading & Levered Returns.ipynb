{
 "cells": [
  {
   "cell_type": "code",
   "execution_count": 18,
   "id": "6ad332c1-f01a-4d47-99ba-2ae8e721af07",
   "metadata": {},
   "outputs": [],
   "source": [
    "import pandas as pd\n",
    "import numpy as np\n",
    "pd.options.display.float_format = '{:.4f}'.format\n",
    "import matplotlib.pyplot as plt\n",
    "plt.style.use(\"seaborn-v0_8\")"
   ]
  },
  {
   "cell_type": "markdown",
   "id": "017fa869-f845-42d3-99b7-bd00c4407bce",
   "metadata": {},
   "source": [
    "# Part1"
   ]
  },
  {
   "cell_type": "code",
   "execution_count": 27,
   "id": "195310e2-2349-4109-b214-2e980e121d08",
   "metadata": {},
   "outputs": [],
   "source": [
    "P0 = 100\n",
    "P1 = 110\n",
    "leverage = 7\n",
    "margin = P0/2 #실제 지불한 금액"
   ]
  },
  {
   "cell_type": "code",
   "execution_count": 28,
   "id": "2a398ba6-c531-4e72-888f-6bffac258883",
   "metadata": {},
   "outputs": [
    {
     "data": {
      "text/plain": [
       "50.0"
      ]
     },
     "execution_count": 28,
     "metadata": {},
     "output_type": "execute_result"
    }
   ],
   "source": [
    "margin"
   ]
  },
  {
   "cell_type": "code",
   "execution_count": 29,
   "id": "e478d800-a8b0-42e9-93f8-627c339cfccf",
   "metadata": {},
   "outputs": [
    {
     "data": {
      "text/plain": [
       "0.1"
      ]
     },
     "execution_count": 29,
     "metadata": {},
     "output_type": "execute_result"
    }
   ],
   "source": [
    "unlev_return = (P1 - P0) / P0 #비마진거래 시 단순 수익률 \n",
    "unlev_return"
   ]
  },
  {
   "cell_type": "code",
   "execution_count": 30,
   "id": "aa792e34-7fd9-4a36-9903-a6720db3b4b6",
   "metadata": {},
   "outputs": [
    {
     "data": {
      "text/plain": [
       "0.2"
      ]
     },
     "execution_count": 30,
     "metadata": {},
     "output_type": "execute_result"
    }
   ],
   "source": [
    "lev_return = (P1 - P0) / margin #마진 거래시 수익률\n",
    "lev_return"
   ]
  },
  {
   "cell_type": "code",
   "execution_count": 31,
   "id": "98830694-cb89-4352-abfc-5f47ac02ce0c",
   "metadata": {},
   "outputs": [
    {
     "data": {
      "text/plain": [
       "False"
      ]
     },
     "execution_count": 31,
     "metadata": {},
     "output_type": "execute_result"
    }
   ],
   "source": [
    "lev_return == unlev_return * leverage"
   ]
  },
  {
   "cell_type": "code",
   "execution_count": 32,
   "id": "431ce9a6-a1a8-4b16-9759-7955b21ee88d",
   "metadata": {},
   "outputs": [
    {
     "data": {
      "text/plain": [
       "0.09531017980432493"
      ]
     },
     "execution_count": 32,
     "metadata": {},
     "output_type": "execute_result"
    }
   ],
   "source": [
    "unlev_return = np.log((P1 - P0) / P0 + 1) #로그 수익률\n",
    "unlev_return"
   ]
  },
  {
   "cell_type": "code",
   "execution_count": 33,
   "id": "a39ef02c-251b-4a1a-99b9-f29969f37c6b",
   "metadata": {},
   "outputs": [
    {
     "data": {
      "text/plain": [
       "0.1823215567939546"
      ]
     },
     "execution_count": 33,
     "metadata": {},
     "output_type": "execute_result"
    }
   ],
   "source": [
    "lev_return = np.log((P1 - P0) / margin + 1) #로그 수익률\n",
    "lev_return"
   ]
  },
  {
   "cell_type": "code",
   "execution_count": 34,
   "id": "676eb43d-32b1-485b-9064-4a419ff4f300",
   "metadata": {},
   "outputs": [
    {
     "data": {
      "text/plain": [
       "False"
      ]
     },
     "execution_count": 34,
     "metadata": {},
     "output_type": "execute_result"
    }
   ],
   "source": [
    "lev_return == unlev_return * leverage "
   ]
  },
  {
   "cell_type": "markdown",
   "id": "19e0fe06-2a27-45ce-be20-95adf52d0a33",
   "metadata": {},
   "source": [
    "# Part 2 "
   ]
  },
  {
   "cell_type": "code",
   "execution_count": 35,
   "id": "3aa1e6be-c8a6-4f55-b8ac-f818a6677987",
   "metadata": {},
   "outputs": [
    {
     "data": {
      "text/html": [
       "<div>\n",
       "<style scoped>\n",
       "    .dataframe tbody tr th:only-of-type {\n",
       "        vertical-align: middle;\n",
       "    }\n",
       "\n",
       "    .dataframe tbody tr th {\n",
       "        vertical-align: top;\n",
       "    }\n",
       "\n",
       "    .dataframe thead th {\n",
       "        text-align: right;\n",
       "    }\n",
       "</style>\n",
       "<table border=\"1\" class=\"dataframe\">\n",
       "  <thead>\n",
       "    <tr style=\"text-align: right;\">\n",
       "      <th></th>\n",
       "      <th>Price</th>\n",
       "      <th>Returns</th>\n",
       "    </tr>\n",
       "    <tr>\n",
       "      <th>Date</th>\n",
       "      <th></th>\n",
       "      <th></th>\n",
       "    </tr>\n",
       "  </thead>\n",
       "  <tbody>\n",
       "    <tr>\n",
       "      <th>2014-10-01</th>\n",
       "      <td>45.9000</td>\n",
       "      <td>NaN</td>\n",
       "    </tr>\n",
       "    <tr>\n",
       "      <th>2014-10-02</th>\n",
       "      <td>45.7600</td>\n",
       "      <td>-0.0031</td>\n",
       "    </tr>\n",
       "    <tr>\n",
       "      <th>2014-10-03</th>\n",
       "      <td>46.0900</td>\n",
       "      <td>0.0072</td>\n",
       "    </tr>\n",
       "    <tr>\n",
       "      <th>2014-10-06</th>\n",
       "      <td>46.0900</td>\n",
       "      <td>0.0000</td>\n",
       "    </tr>\n",
       "    <tr>\n",
       "      <th>2014-10-07</th>\n",
       "      <td>45.5300</td>\n",
       "      <td>-0.0122</td>\n",
       "    </tr>\n",
       "    <tr>\n",
       "      <th>...</th>\n",
       "      <td>...</td>\n",
       "      <td>...</td>\n",
       "    </tr>\n",
       "    <tr>\n",
       "      <th>2024-02-12</th>\n",
       "      <td>415.2600</td>\n",
       "      <td>-0.0126</td>\n",
       "    </tr>\n",
       "    <tr>\n",
       "      <th>2024-02-13</th>\n",
       "      <td>406.3200</td>\n",
       "      <td>-0.0215</td>\n",
       "    </tr>\n",
       "    <tr>\n",
       "      <th>2024-02-14</th>\n",
       "      <td>409.4900</td>\n",
       "      <td>0.0078</td>\n",
       "    </tr>\n",
       "    <tr>\n",
       "      <th>2024-02-15</th>\n",
       "      <td>406.5600</td>\n",
       "      <td>-0.0072</td>\n",
       "    </tr>\n",
       "    <tr>\n",
       "      <th>2024-02-16</th>\n",
       "      <td>404.0600</td>\n",
       "      <td>-0.0061</td>\n",
       "    </tr>\n",
       "  </tbody>\n",
       "</table>\n",
       "<p>2361 rows × 2 columns</p>\n",
       "</div>"
      ],
      "text/plain": [
       "              Price  Returns\n",
       "Date                        \n",
       "2014-10-01  45.9000      NaN\n",
       "2014-10-02  45.7600  -0.0031\n",
       "2014-10-03  46.0900   0.0072\n",
       "2014-10-06  46.0900   0.0000\n",
       "2014-10-07  45.5300  -0.0122\n",
       "...             ...      ...\n",
       "2024-02-12 415.2600  -0.0126\n",
       "2024-02-13 406.3200  -0.0215\n",
       "2024-02-14 409.4900   0.0078\n",
       "2024-02-15 406.5600  -0.0072\n",
       "2024-02-16 404.0600  -0.0061\n",
       "\n",
       "[2361 rows x 2 columns]"
      ]
     },
     "execution_count": 35,
     "metadata": {},
     "output_type": "execute_result"
    }
   ],
   "source": [
    "msft = pd.read_csv(\"msft.csv\", index_col = \"Date\", parse_dates = [\"Date\"])\n",
    "msft"
   ]
  },
  {
   "cell_type": "code",
   "execution_count": 36,
   "id": "2e40ad9f-efe7-4eac-9a4e-e69b627d02a9",
   "metadata": {},
   "outputs": [],
   "source": [
    "msft[\"Simple_Ret\"] = msft.Price.pct_change()"
   ]
  },
  {
   "cell_type": "code",
   "execution_count": 40,
   "id": "341f411a-145c-453f-89d3-9eecf40ef0fa",
   "metadata": {},
   "outputs": [],
   "source": [
    "leverage = 7"
   ]
  },
  {
   "cell_type": "code",
   "execution_count": 41,
   "id": "838fe07a-f213-455b-afbc-bdfef11ace4e",
   "metadata": {},
   "outputs": [
    {
     "data": {
      "text/html": [
       "<div>\n",
       "<style scoped>\n",
       "    .dataframe tbody tr th:only-of-type {\n",
       "        vertical-align: middle;\n",
       "    }\n",
       "\n",
       "    .dataframe tbody tr th {\n",
       "        vertical-align: top;\n",
       "    }\n",
       "\n",
       "    .dataframe thead th {\n",
       "        text-align: right;\n",
       "    }\n",
       "</style>\n",
       "<table border=\"1\" class=\"dataframe\">\n",
       "  <thead>\n",
       "    <tr style=\"text-align: right;\">\n",
       "      <th></th>\n",
       "      <th>Price</th>\n",
       "      <th>Returns</th>\n",
       "      <th>Simple_Ret</th>\n",
       "      <th>Lev_Returns</th>\n",
       "    </tr>\n",
       "    <tr>\n",
       "      <th>Date</th>\n",
       "      <th></th>\n",
       "      <th></th>\n",
       "      <th></th>\n",
       "      <th></th>\n",
       "    </tr>\n",
       "  </thead>\n",
       "  <tbody>\n",
       "    <tr>\n",
       "      <th>2014-10-01</th>\n",
       "      <td>45.9000</td>\n",
       "      <td>NaN</td>\n",
       "      <td>NaN</td>\n",
       "      <td>NaN</td>\n",
       "    </tr>\n",
       "    <tr>\n",
       "      <th>2014-10-02</th>\n",
       "      <td>45.7600</td>\n",
       "      <td>-0.0031</td>\n",
       "      <td>-0.0031</td>\n",
       "      <td>-0.0214</td>\n",
       "    </tr>\n",
       "    <tr>\n",
       "      <th>2014-10-03</th>\n",
       "      <td>46.0900</td>\n",
       "      <td>0.0072</td>\n",
       "      <td>0.0072</td>\n",
       "      <td>0.0505</td>\n",
       "    </tr>\n",
       "    <tr>\n",
       "      <th>2014-10-06</th>\n",
       "      <td>46.0900</td>\n",
       "      <td>0.0000</td>\n",
       "      <td>0.0000</td>\n",
       "      <td>0.0000</td>\n",
       "    </tr>\n",
       "    <tr>\n",
       "      <th>2014-10-07</th>\n",
       "      <td>45.5300</td>\n",
       "      <td>-0.0122</td>\n",
       "      <td>-0.0122</td>\n",
       "      <td>-0.0851</td>\n",
       "    </tr>\n",
       "    <tr>\n",
       "      <th>...</th>\n",
       "      <td>...</td>\n",
       "      <td>...</td>\n",
       "      <td>...</td>\n",
       "      <td>...</td>\n",
       "    </tr>\n",
       "    <tr>\n",
       "      <th>2024-02-12</th>\n",
       "      <td>415.2600</td>\n",
       "      <td>-0.0126</td>\n",
       "      <td>-0.0126</td>\n",
       "      <td>-0.0881</td>\n",
       "    </tr>\n",
       "    <tr>\n",
       "      <th>2024-02-13</th>\n",
       "      <td>406.3200</td>\n",
       "      <td>-0.0215</td>\n",
       "      <td>-0.0215</td>\n",
       "      <td>-0.1507</td>\n",
       "    </tr>\n",
       "    <tr>\n",
       "      <th>2024-02-14</th>\n",
       "      <td>409.4900</td>\n",
       "      <td>0.0078</td>\n",
       "      <td>0.0078</td>\n",
       "      <td>0.0546</td>\n",
       "    </tr>\n",
       "    <tr>\n",
       "      <th>2024-02-15</th>\n",
       "      <td>406.5600</td>\n",
       "      <td>-0.0072</td>\n",
       "      <td>-0.0072</td>\n",
       "      <td>-0.0501</td>\n",
       "    </tr>\n",
       "    <tr>\n",
       "      <th>2024-02-16</th>\n",
       "      <td>404.0600</td>\n",
       "      <td>-0.0061</td>\n",
       "      <td>-0.0061</td>\n",
       "      <td>-0.0430</td>\n",
       "    </tr>\n",
       "  </tbody>\n",
       "</table>\n",
       "<p>2361 rows × 4 columns</p>\n",
       "</div>"
      ],
      "text/plain": [
       "              Price  Returns  Simple_Ret  Lev_Returns\n",
       "Date                                                 \n",
       "2014-10-01  45.9000      NaN         NaN          NaN\n",
       "2014-10-02  45.7600  -0.0031     -0.0031      -0.0214\n",
       "2014-10-03  46.0900   0.0072      0.0072       0.0505\n",
       "2014-10-06  46.0900   0.0000      0.0000       0.0000\n",
       "2014-10-07  45.5300  -0.0122     -0.0122      -0.0851\n",
       "...             ...      ...         ...          ...\n",
       "2024-02-12 415.2600  -0.0126     -0.0126      -0.0881\n",
       "2024-02-13 406.3200  -0.0215     -0.0215      -0.1507\n",
       "2024-02-14 409.4900   0.0078      0.0078       0.0546\n",
       "2024-02-15 406.5600  -0.0072     -0.0072      -0.0501\n",
       "2024-02-16 404.0600  -0.0061     -0.0061      -0.0430\n",
       "\n",
       "[2361 rows x 4 columns]"
      ]
     },
     "execution_count": 41,
     "metadata": {},
     "output_type": "execute_result"
    }
   ],
   "source": [
    "msft[\"Lev_Returns\"] = msft.Simple_Ret.mul(leverage)\n",
    "msft"
   ]
  },
  {
   "cell_type": "code",
   "execution_count": 50,
   "id": "0ccfc138-43fb-4c46-ad45-c96610c21b24",
   "metadata": {},
   "outputs": [
    {
     "data": {
      "text/html": [
       "<div>\n",
       "<style scoped>\n",
       "    .dataframe tbody tr th:only-of-type {\n",
       "        vertical-align: middle;\n",
       "    }\n",
       "\n",
       "    .dataframe tbody tr th {\n",
       "        vertical-align: top;\n",
       "    }\n",
       "\n",
       "    .dataframe thead th {\n",
       "        text-align: right;\n",
       "    }\n",
       "</style>\n",
       "<table border=\"1\" class=\"dataframe\">\n",
       "  <thead>\n",
       "    <tr style=\"text-align: right;\">\n",
       "      <th></th>\n",
       "      <th>Price</th>\n",
       "      <th>Returns</th>\n",
       "      <th>Simple_Ret</th>\n",
       "      <th>Lev_Returns</th>\n",
       "    </tr>\n",
       "    <tr>\n",
       "      <th>Date</th>\n",
       "      <th></th>\n",
       "      <th></th>\n",
       "      <th></th>\n",
       "      <th></th>\n",
       "    </tr>\n",
       "  </thead>\n",
       "  <tbody>\n",
       "    <tr>\n",
       "      <th>2014-10-01</th>\n",
       "      <td>45.9000</td>\n",
       "      <td>NaN</td>\n",
       "      <td>NaN</td>\n",
       "      <td>NaN</td>\n",
       "    </tr>\n",
       "    <tr>\n",
       "      <th>2014-10-02</th>\n",
       "      <td>45.7600</td>\n",
       "      <td>-0.0031</td>\n",
       "      <td>-0.0031</td>\n",
       "      <td>-0.0214</td>\n",
       "    </tr>\n",
       "    <tr>\n",
       "      <th>2014-10-03</th>\n",
       "      <td>46.0900</td>\n",
       "      <td>0.0072</td>\n",
       "      <td>0.0072</td>\n",
       "      <td>0.0505</td>\n",
       "    </tr>\n",
       "    <tr>\n",
       "      <th>2014-10-06</th>\n",
       "      <td>46.0900</td>\n",
       "      <td>0.0000</td>\n",
       "      <td>0.0000</td>\n",
       "      <td>0.0000</td>\n",
       "    </tr>\n",
       "    <tr>\n",
       "      <th>2014-10-07</th>\n",
       "      <td>45.5300</td>\n",
       "      <td>-0.0122</td>\n",
       "      <td>-0.0122</td>\n",
       "      <td>-0.0851</td>\n",
       "    </tr>\n",
       "    <tr>\n",
       "      <th>...</th>\n",
       "      <td>...</td>\n",
       "      <td>...</td>\n",
       "      <td>...</td>\n",
       "      <td>...</td>\n",
       "    </tr>\n",
       "    <tr>\n",
       "      <th>2024-02-12</th>\n",
       "      <td>415.2600</td>\n",
       "      <td>-0.0126</td>\n",
       "      <td>-0.0126</td>\n",
       "      <td>-0.0881</td>\n",
       "    </tr>\n",
       "    <tr>\n",
       "      <th>2024-02-13</th>\n",
       "      <td>406.3200</td>\n",
       "      <td>-0.0215</td>\n",
       "      <td>-0.0215</td>\n",
       "      <td>-0.1507</td>\n",
       "    </tr>\n",
       "    <tr>\n",
       "      <th>2024-02-14</th>\n",
       "      <td>409.4900</td>\n",
       "      <td>0.0078</td>\n",
       "      <td>0.0078</td>\n",
       "      <td>0.0546</td>\n",
       "    </tr>\n",
       "    <tr>\n",
       "      <th>2024-02-15</th>\n",
       "      <td>406.5600</td>\n",
       "      <td>-0.0072</td>\n",
       "      <td>-0.0072</td>\n",
       "      <td>-0.0501</td>\n",
       "    </tr>\n",
       "    <tr>\n",
       "      <th>2024-02-16</th>\n",
       "      <td>404.0600</td>\n",
       "      <td>-0.0061</td>\n",
       "      <td>-0.0061</td>\n",
       "      <td>-0.0430</td>\n",
       "    </tr>\n",
       "  </tbody>\n",
       "</table>\n",
       "<p>2361 rows × 4 columns</p>\n",
       "</div>"
      ],
      "text/plain": [
       "              Price  Returns  Simple_Ret  Lev_Returns\n",
       "Date                                                 \n",
       "2014-10-01  45.9000      NaN         NaN          NaN\n",
       "2014-10-02  45.7600  -0.0031     -0.0031      -0.0214\n",
       "2014-10-03  46.0900   0.0072      0.0072       0.0505\n",
       "2014-10-06  46.0900   0.0000      0.0000       0.0000\n",
       "2014-10-07  45.5300  -0.0122     -0.0122      -0.0851\n",
       "...             ...      ...         ...          ...\n",
       "2024-02-12 415.2600  -0.0126     -0.0126      -0.0881\n",
       "2024-02-13 406.3200  -0.0215     -0.0215      -0.1507\n",
       "2024-02-14 409.4900   0.0078      0.0078       0.0546\n",
       "2024-02-15 406.5600  -0.0072     -0.0072      -0.0501\n",
       "2024-02-16 404.0600  -0.0061     -0.0061      -0.0430\n",
       "\n",
       "[2361 rows x 4 columns]"
      ]
     },
     "execution_count": 50,
     "metadata": {},
     "output_type": "execute_result"
    }
   ],
   "source": [
    "msft[\"Lev_Returns\"] = np.where(msft[\"Lev_Returns\"] < -1, -1, msft[\"Lev_Returns\"])\n",
    "msft"
   ]
  },
  {
   "cell_type": "code",
   "execution_count": 47,
   "id": "ced3ec93-154c-4a41-9947-a3b5cff6f592",
   "metadata": {},
   "outputs": [
    {
     "data": {
      "image/png": "[encoded data removed]",
      "text/plain": [
       "<Figure size 1500x800 with 1 Axes>"
      ]
     },
     "metadata": {},
     "output_type": "display_data"
    }
   ],
   "source": [
    "msft[[\"Returns\", \"Lev_Returns\"]].add(1).cumprod().plot(figsize = (15,8), fontsize = 13)\n",
    "plt.legend(fontsize = 13)\n",
    "plt.show()"
   ]
  },
  {
   "cell_type": "code",
   "execution_count": 51,
   "id": "4e314b71-d5ef-4d77-b1ba-25de641c3261",
   "metadata": {},
   "outputs": [
    {
     "data": {
      "text/plain": [
       "6.784706406865346"
      ]
     },
     "execution_count": 51,
     "metadata": {},
     "output_type": "execute_result"
    }
   ],
   "source": [
    "-1 / msft.Simple_Ret.min()\n",
    "#7이상의 레버리지로 마진콜 발생->증거금을 더 넣어야하며 더 안넣을 시 강제 청산(마진 클로즈)"
   ]
  },
  {
   "cell_type": "code",
   "execution_count": null,
   "id": "7fe0d08e-9f2a-4490-9a8e-edb9d5110d37",
   "metadata": {},
   "outputs": [],
   "source": []
  }
 ],
 "metadata": {
  "kernelspec": {
   "display_name": "Python 3 (ipykernel)",
   "language": "python",
   "name": "python3"
  },
  "language_info": {
   "codemirror_mode": {
    "name": "ipython",
    "version": 3
   },
   "file_extension": ".py",
   "mimetype": "text/x-python",
   "name": "python",
   "nbconvert_exporter": "python",
   "pygments_lexer": "ipython3",
   "version": "3.9.13"
  }
 },
 "nbformat": 4,
 "nbformat_minor": 5
}
