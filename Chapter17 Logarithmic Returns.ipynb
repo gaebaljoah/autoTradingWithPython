{
 "cells": [
  {
   "cell_type": "markdown",
   "id": "9423e1c8-20ed-4da4-9c40-c8ff3154ce7e",
   "metadata": {},
   "source": [
    "### **Preview: Simple Returns vs Logarithmic Returns (log returns)**\n",
    "#### 많은 투자자들은 다음과 같은 이유로 단순 수익률보다 로그 수익률로 작업한다.\n",
    "- 단순 수익률인 산술평균 수익률로는 추가 계산을 할 수가 없다."
   ]
  },
  {
   "cell_type": "markdown",
   "id": "106e5f97-419d-4c84-a240-5dbb1aa2820a",
   "metadata": {},
   "source": [
    "### 이산복리(Discrete Compounding)\n",
    "이자가 일정한 간격으로 지급되는 복리 방식을 말한다. 이 방식에서는 이자가 지정된 간격(예: 연간, 반기, 분기, 월간)마다 계산되고, 이자가 지급된다."
   ]
  },
  {
   "cell_type": "code",
   "execution_count": 12,
   "id": "048d6021-39f0-458d-8d17-8c2c74971023",
   "metadata": {},
   "outputs": [],
   "source": [
    "import numpy as np"
   ]
  },
  {
   "cell_type": "code",
   "execution_count": 13,
   "id": "73778b76-431d-488c-86da-30f2532b906c",
   "metadata": {},
   "outputs": [],
   "source": [
    "PV = 100 # 계좌 초기 금액\n",
    "r = 0.08 # 은행 연이율\n",
    "n = 1 # 투자기간"
   ]
  },
  {
   "cell_type": "code",
   "execution_count": 14,
   "id": "b2d0aab3-20ce-461b-ae9b-473ff17a6826",
   "metadata": {},
   "outputs": [
    {
     "data": {
      "text/plain": [
       "108.0"
      ]
     },
     "execution_count": 14,
     "metadata": {},
     "output_type": "execute_result"
    }
   ],
   "source": [
    "100 * 1.08"
   ]
  },
  {
   "cell_type": "code",
   "execution_count": 15,
   "id": "03a58755-a543-417e-8d7a-ebabb0e6bdb3",
   "metadata": {},
   "outputs": [
    {
     "data": {
      "text/plain": [
       "108.0"
      ]
     },
     "execution_count": 15,
     "metadata": {},
     "output_type": "execute_result"
    }
   ],
   "source": [
    "FV = PV * (1 + r)**n\n",
    "FV"
   ]
  },
  {
   "cell_type": "code",
   "execution_count": 16,
   "id": "cea0c1a2-0097-477d-83fb-2db87c137fb5",
   "metadata": {},
   "outputs": [
    {
     "data": {
      "text/plain": [
       "0.08000000000000007"
      ]
     },
     "execution_count": 16,
     "metadata": {},
     "output_type": "execute_result"
    }
   ],
   "source": [
    "effective_annual_rate = (FV / PV)**(1/n) - 1\n",
    "effective_annual_rate\n",
    "#연간 수익율"
   ]
  },
  {
   "cell_type": "code",
   "execution_count": 17,
   "id": "1f6502fc-81d8-4470-8d60-096359be2da5",
   "metadata": {},
   "outputs": [],
   "source": [
    "PV = 100\n",
    "r = 0.08\n",
    "n = 1\n",
    "m = 4"
   ]
  },
  {
   "cell_type": "code",
   "execution_count": 18,
   "id": "4631776a-f232-4fb4-8747-68fe2e589912",
   "metadata": {},
   "outputs": [
    {
     "data": {
      "text/plain": [
       "108.243216"
      ]
     },
     "execution_count": 18,
     "metadata": {},
     "output_type": "execute_result"
    }
   ],
   "source": [
    "100 * 1.02 * 1.02 * 1.02 * 1.02"
   ]
  },
  {
   "cell_type": "code",
   "execution_count": 19,
   "id": "93250f7c-2b6e-442b-9dbf-4825fdb00712",
   "metadata": {},
   "outputs": [
    {
     "data": {
      "text/plain": [
       "108.243216"
      ]
     },
     "execution_count": 19,
     "metadata": {},
     "output_type": "execute_result"
    }
   ],
   "source": [
    "FV = PV * (1 + r/m) ** (n*m)\n",
    "FV"
   ]
  },
  {
   "cell_type": "code",
   "execution_count": 20,
   "id": "8b409ff1-ccac-4c39-9c86-f4c79bcf3362",
   "metadata": {},
   "outputs": [
    {
     "data": {
      "text/plain": [
       "0.08243215999999998"
      ]
     },
     "execution_count": 20,
     "metadata": {},
     "output_type": "execute_result"
    }
   ],
   "source": [
    "effective_annual_rate = (FV / PV)**(1/n) -1\n",
    "effective_annual_rate\n",
    "#분기별로 계산했을 시 연간실효이자율"
   ]
  },
  {
   "cell_type": "code",
   "execution_count": 21,
   "id": "6a8fbaf3-2d1c-4d71-b157-46b990d54893",
   "metadata": {},
   "outputs": [],
   "source": [
    "#같은 이자율이어도 그 것을 여러 번 나누어 곱하면 더 높은 이자율을 발생시킨다."
   ]
  },
  {
   "cell_type": "markdown",
   "id": "96aaef9d-5989-48b8-af4a-6f6b536de5b0",
   "metadata": {},
   "source": [
    "### 연속 복리(Continuous Compounding) \n",
    "이자가 무한히 많은 시간 동안 지급되는 복리 방식을 의미한다. 이 방식에서는 이자가 무한히 자주 지급되어, 이자가 실시간으로 발생하고 이자가 원금에 더해진다."
   ]
  },
  {
   "cell_type": "code",
   "execution_count": 22,
   "id": "5ef5bc80-f194-47db-9666-34981f158e6b",
   "metadata": {},
   "outputs": [],
   "source": [
    "PV = 100\n",
    "r = 0.08\n",
    "n = 1\n",
    "m = 100000 #approx.infinity"
   ]
  },
  {
   "cell_type": "code",
   "execution_count": 23,
   "id": "3c253e54-5c91-472e-a997-37e0900d7a41",
   "metadata": {},
   "outputs": [
    {
     "data": {
      "text/plain": [
       "108.32870676749586"
      ]
     },
     "execution_count": 23,
     "metadata": {},
     "output_type": "execute_result"
    }
   ],
   "source": [
    "FV = PV * np.exp(n * r)\n",
    "FV"
   ]
  },
  {
   "cell_type": "code",
   "execution_count": 28,
   "id": "bce900cf-13a7-4fad-b215-c0aedabe827c",
   "metadata": {},
   "outputs": [
    {
     "data": {
      "text/plain": [
       "2.718281828459045"
      ]
     },
     "execution_count": 28,
     "metadata": {},
     "output_type": "execute_result"
    }
   ],
   "source": [
    "euler = np.exp(1) #자연상수인 오일러의 수\n",
    "euler"
   ]
  },
  {
   "cell_type": "code",
   "execution_count": 29,
   "id": "2c7ef78e-c2ae-4e29-b7e4-eba4f55304b0",
   "metadata": {},
   "outputs": [
    {
     "data": {
      "text/plain": [
       "108.32870676749586"
      ]
     },
     "execution_count": 29,
     "metadata": {},
     "output_type": "execute_result"
    }
   ],
   "source": [
    "PV * euler**(n * r)"
   ]
  },
  {
   "cell_type": "code",
   "execution_count": 30,
   "id": "cce2acfb-c680-404c-adc1-1d94ad9437a5",
   "metadata": {},
   "outputs": [
    {
     "data": {
      "text/plain": [
       "0.08328706767495864"
      ]
     },
     "execution_count": 30,
     "metadata": {},
     "output_type": "execute_result"
    }
   ],
   "source": [
    "effective_annual_rate = ((FV / PV) ** (1/n) - 1)\n",
    "effective_annual_rate"
   ]
  },
  {
   "cell_type": "code",
   "execution_count": 31,
   "id": "f2c0178e-65f8-4345-8b54-9580a94c189a",
   "metadata": {},
   "outputs": [
    {
     "data": {
      "text/plain": [
       "0.08328706767495864"
      ]
     },
     "execution_count": 31,
     "metadata": {},
     "output_type": "execute_result"
    }
   ],
   "source": [
    "effective_annual_rate = np.exp(r) - 1\n",
    "effective_annual_rate"
   ]
  },
  {
   "cell_type": "code",
   "execution_count": 32,
   "id": "dea7f0f9-2617-451b-8255-8c13c397a9cb",
   "metadata": {},
   "outputs": [
    {
     "data": {
      "text/plain": [
       "1.0832870676749586"
      ]
     },
     "execution_count": 32,
     "metadata": {},
     "output_type": "execute_result"
    }
   ],
   "source": [
    "np.exp(0.08) "
   ]
  },
  {
   "cell_type": "markdown",
   "id": "698f2188-b0f1-410d-bb90-98e5e894ab77",
   "metadata": {},
   "source": [
    "PV(현재 가치)와 FV(미래 가치)를 관찰할 때, 주어진 금리(8%)를 사용하여 상태 금리(stated rate) 또는 연속 복리 금리(continuously compounded rate)를 계산하는 방법은 다음과 같다."
   ]
  },
  {
   "cell_type": "code",
   "execution_count": 34,
   "id": "6754f8d5-8c80-4d91-a3b9-b13420f88177",
   "metadata": {},
   "outputs": [
    {
     "data": {
      "text/plain": [
       "0.08000000000000007"
      ]
     },
     "execution_count": 34,
     "metadata": {},
     "output_type": "execute_result"
    }
   ],
   "source": [
    "r = np.log(FV/PV) #inverse calculation -> use log (Alt 1)\n",
    "r"
   ]
  },
  {
   "cell_type": "code",
   "execution_count": 35,
   "id": "0c00964b-356b-47b5-8923-00f40e39f2ee",
   "metadata": {},
   "outputs": [
    {
     "data": {
      "text/plain": [
       "0.08000000000000007"
      ]
     },
     "execution_count": 35,
     "metadata": {},
     "output_type": "execute_result"
    }
   ],
   "source": [
    "r = np.log(effective_annual_rate + 1) # inverse calculation -> use log (Alt 2)\n",
    "r"
   ]
  },
  {
   "cell_type": "markdown",
   "id": "7396c0ba-192c-4178-9c53-953b9e1c915a",
   "metadata": {},
   "source": [
    "이러한 연속적인 가격 변동을 다룰 때 로그 수익률이 유용하다는 것을 나타내고 있다. \n",
    "로그 수익률은 주식이나 다른 금융 상품의 수익률을 계산할 때 일반적으로 사용되는 방법 중 하나다. \n",
    "로그 수익률은 수학적으로 편리하며, 상대적으로 작은 변화도 잘 나타내기 때문에 연속적인 가격 변동을 분석하는 데 적합하다."
   ]
  },
  {
   "cell_type": "code",
   "execution_count": null,
   "id": "ed05ec52-0021-4fe9-b400-47c372f3d3fe",
   "metadata": {},
   "outputs": [],
   "source": []
  }
 ],
 "metadata": {
  "kernelspec": {
   "display_name": "Python 3 (ipykernel)",
   "language": "python",
   "name": "python3"
  },
  "language_info": {
   "codemirror_mode": {
    "name": "ipython",
    "version": 3
   },
   "file_extension": ".py",
   "mimetype": "text/x-python",
   "name": "python",
   "nbconvert_exporter": "python",
   "pygments_lexer": "ipython3",
   "version": "3.9.13"
  }
 },
 "nbformat": 4,
 "nbformat_minor": 5
}
