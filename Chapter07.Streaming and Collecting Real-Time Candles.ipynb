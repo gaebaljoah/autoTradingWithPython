{
 "cells": [
  {
   "cell_type": "markdown",
   "id": "e41757d2-dffe-4ff7-b526-131dae5d6c89",
   "metadata": {},
   "source": [
    "#### 이전에 ThreadedWebsocketManager을 사용안했다(버전이 안맞아서) 이번에 버전을 1.0.15로 낮춰 twm으로 사용해보자."
   ]
  },
  {
   "cell_type": "code",
   "execution_count": 2,
   "id": "3ab52392-95fd-4221-b1af-7252f45ed425",
   "metadata": {},
   "outputs": [
    {
     "name": "stdout",
     "output_type": "stream",
     "text": [
      "Requirement already satisfied: python-binance==1.0.15 in c:\\users\\seoeu\\appdata\\roaming\\python\\python311\\site-packages (1.0.15)Note: you may need to restart the kernel to use updated packages.\n",
      "\n",
      "Requirement already satisfied: requests in c:\\users\\seoeu\\anaconda3\\lib\\site-packages (from python-binance==1.0.15) (2.31.0)\n",
      "Requirement already satisfied: six in c:\\users\\seoeu\\anaconda3\\lib\\site-packages (from python-binance==1.0.15) (1.16.0)\n",
      "Requirement already satisfied: dateparser in c:\\users\\seoeu\\anaconda3\\lib\\site-packages (from python-binance==1.0.15) (1.2.0)\n",
      "Requirement already satisfied: aiohttp in c:\\users\\seoeu\\anaconda3\\lib\\site-packages (from python-binance==1.0.15) (3.9.0)\n",
      "Requirement already satisfied: ujson in c:\\users\\seoeu\\anaconda3\\lib\\site-packages (from python-binance==1.0.15) (5.4.0)\n",
      "Requirement already satisfied: websockets==9.1 in c:\\users\\seoeu\\anaconda3\\lib\\site-packages (from python-binance==1.0.15) (9.1)\n",
      "Requirement already satisfied: attrs>=17.3.0 in c:\\users\\seoeu\\anaconda3\\lib\\site-packages (from aiohttp->python-binance==1.0.15) (23.1.0)\n",
      "Requirement already satisfied: multidict<7.0,>=4.5 in c:\\users\\seoeu\\anaconda3\\lib\\site-packages (from aiohttp->python-binance==1.0.15) (6.0.4)\n",
      "Requirement already satisfied: yarl<2.0,>=1.0 in c:\\users\\seoeu\\anaconda3\\lib\\site-packages (from aiohttp->python-binance==1.0.15) (1.9.3)\n",
      "Requirement already satisfied: frozenlist>=1.1.1 in c:\\users\\seoeu\\anaconda3\\lib\\site-packages (from aiohttp->python-binance==1.0.15) (1.4.0)\n",
      "Requirement already satisfied: aiosignal>=1.1.2 in c:\\users\\seoeu\\anaconda3\\lib\\site-packages (from aiohttp->python-binance==1.0.15) (1.2.0)\n",
      "Requirement already satisfied: python-dateutil in c:\\users\\seoeu\\anaconda3\\lib\\site-packages (from dateparser->python-binance==1.0.15) (2.8.2)\n",
      "Requirement already satisfied: pytz in c:\\users\\seoeu\\anaconda3\\lib\\site-packages (from dateparser->python-binance==1.0.15) (2023.3.post1)\n",
      "Requirement already satisfied: regex!=2019.02.19,!=2021.8.27 in c:\\users\\seoeu\\anaconda3\\lib\\site-packages (from dateparser->python-binance==1.0.15) (2023.10.3)\n",
      "Requirement already satisfied: tzlocal in c:\\users\\seoeu\\anaconda3\\lib\\site-packages (from dateparser->python-binance==1.0.15) (5.2)\n",
      "Requirement already satisfied: charset-normalizer<4,>=2 in c:\\users\\seoeu\\anaconda3\\lib\\site-packages (from requests->python-binance==1.0.15) (2.0.4)\n",
      "Requirement already satisfied: idna<4,>=2.5 in c:\\users\\seoeu\\anaconda3\\lib\\site-packages (from requests->python-binance==1.0.15) (3.4)\n",
      "Requirement already satisfied: urllib3<3,>=1.21.1 in c:\\users\\seoeu\\anaconda3\\lib\\site-packages (from requests->python-binance==1.0.15) (1.26.18)\n",
      "Requirement already satisfied: certifi>=2017.4.17 in c:\\users\\seoeu\\anaconda3\\lib\\site-packages (from requests->python-binance==1.0.15) (2023.11.17)\n",
      "Requirement already satisfied: tzdata in c:\\users\\seoeu\\anaconda3\\lib\\site-packages (from tzlocal->dateparser->python-binance==1.0.15) (2023.3)\n"
     ]
    }
   ],
   "source": [
    "#버전 낮추기\n",
    "pip install --user python-binance==1.0.15"
   ]
  },
  {
   "cell_type": "code",
   "execution_count": 4,
   "id": "86c9076d-1f16-4f56-83a9-11c77eb17d91",
   "metadata": {},
   "outputs": [
    {
     "name": "stdout",
     "output_type": "stream",
     "text": [
      "1.0.15\n"
     ]
    }
   ],
   "source": [
    "import binance\n",
    "print(binance.__version__)"
   ]
  },
  {
   "cell_type": "code",
   "execution_count": 5,
   "id": "367475f5-b062-40ff-885e-18a2ade4ed35",
   "metadata": {},
   "outputs": [],
   "source": [
    "from binance import ThreadedWebsocketManager\n",
    "import pandas as pd"
   ]
  },
  {
   "cell_type": "code",
   "execution_count": null,
   "id": "ba28f61e-073c-4f62-beb9-f866447c8b3f",
   "metadata": {},
   "outputs": [],
   "source": []
  }
 ],
 "metadata": {
  "kernelspec": {
   "display_name": "Python 3 (ipykernel)",
   "language": "python",
   "name": "python3"
  },
  "language_info": {
   "codemirror_mode": {
    "name": "ipython",
    "version": 3
   },
   "file_extension": ".py",
   "mimetype": "text/x-python",
   "name": "python",
   "nbconvert_exporter": "python",
   "pygments_lexer": "ipython3",
   "version": "3.11.5"
  }
 },
 "nbformat": 4,
 "nbformat_minor": 5
}
