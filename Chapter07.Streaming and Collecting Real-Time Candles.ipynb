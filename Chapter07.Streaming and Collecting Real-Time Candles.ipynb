{
 "cells": [
  {
   "cell_type": "markdown",
   "id": "e41757d2-dffe-4ff7-b526-131dae5d6c89",
   "metadata": {},
   "source": [
    "#### 이전에 ThreadedWebsocketManager을 사용안했다(버전이 안맞아서) 이번에 버전을 1.0.15로 낮춰 twm으로 사용해보자.\n",
    "#### python 버전도 anaconda prompt를 사용하여 3.9로 맞춰준다."
   ]
  },
  {
   "cell_type": "code",
   "execution_count": 1,
   "id": "3ab52392-95fd-4221-b1af-7252f45ed425",
   "metadata": {},
   "outputs": [
    {
     "name": "stdout",
     "output_type": "stream",
     "text": [
      "Requirement already satisfied: python-binance==1.0.15 in c:\\users\\seoeu\\appdata\\roaming\\python\\python39\\site-packages (1.0.15)\n",
      "Requirement already satisfied: requests in c:\\users\\seoeu\\anaconda3\\lib\\site-packages (from python-binance==1.0.15) (2.31.0)\n",
      "Requirement already satisfied: six in c:\\users\\seoeu\\anaconda3\\lib\\site-packages (from python-binance==1.0.15) (1.16.0)\n",
      "Requirement already satisfied: dateparser in c:\\users\\seoeu\\anaconda3\\lib\\site-packages (from python-binance==1.0.15) (1.2.0)\n",
      "Requirement already satisfied: aiohttp in c:\\users\\seoeu\\anaconda3\\lib\\site-packages (from python-binance==1.0.15) (3.9.3)\n",
      "Requirement already satisfied: ujson in c:\\users\\seoeu\\anaconda3\\lib\\site-packages (from python-binance==1.0.15) (5.4.0)\n",
      "Requirement already satisfied: websockets==9.1 in c:\\users\\seoeu\\anaconda3\\lib\\site-packages (from python-binance==1.0.15) (9.1)\n",
      "Requirement already satisfied: aiosignal>=1.1.2 in c:\\users\\seoeu\\anaconda3\\lib\\site-packages (from aiohttp->python-binance==1.0.15) (1.2.0)\n",
      "Requirement already satisfied: attrs>=17.3.0 in c:\\users\\seoeu\\anaconda3\\lib\\site-packages (from aiohttp->python-binance==1.0.15) (23.1.0)\n",
      "Requirement already satisfied: frozenlist>=1.1.1 in c:\\users\\seoeu\\anaconda3\\lib\\site-packages (from aiohttp->python-binance==1.0.15) (1.4.0)\n",
      "Requirement already satisfied: multidict<7.0,>=4.5 in c:\\users\\seoeu\\anaconda3\\lib\\site-packages (from aiohttp->python-binance==1.0.15) (6.0.4)\n",
      "Requirement already satisfied: yarl<2.0,>=1.0 in c:\\users\\seoeu\\anaconda3\\lib\\site-packages (from aiohttp->python-binance==1.0.15) (1.9.3)\n",
      "Requirement already satisfied: async-timeout<5.0,>=4.0 in c:\\users\\seoeu\\anaconda3\\lib\\site-packages (from aiohttp->python-binance==1.0.15) (4.0.3)\n",
      "Requirement already satisfied: python-dateutil in c:\\users\\seoeu\\anaconda3\\lib\\site-packages (from dateparser->python-binance==1.0.15) (2.8.2)\n",
      "Requirement already satisfied: pytz in c:\\users\\seoeu\\anaconda3\\lib\\site-packages (from dateparser->python-binance==1.0.15) (2023.3.post1)\n",
      "Requirement already satisfied: regex!=2019.02.19,!=2021.8.27 in c:\\users\\seoeu\\anaconda3\\lib\\site-packages (from dateparser->python-binance==1.0.15) (2023.10.3)\n",
      "Requirement already satisfied: tzlocal in c:\\users\\seoeu\\anaconda3\\lib\\site-packages (from dateparser->python-binance==1.0.15) (5.2)\n",
      "Requirement already satisfied: charset-normalizer<4,>=2 in c:\\users\\seoeu\\anaconda3\\lib\\site-packages (from requests->python-binance==1.0.15) (2.0.4)\n",
      "Requirement already satisfied: idna<4,>=2.5 in c:\\users\\seoeu\\anaconda3\\lib\\site-packages (from requests->python-binance==1.0.15) (3.4)\n",
      "Requirement already satisfied: urllib3<3,>=1.21.1 in c:\\users\\seoeu\\anaconda3\\lib\\site-packages (from requests->python-binance==1.0.15) (1.26.18)\n",
      "Requirement already satisfied: certifi>=2017.4.17 in c:\\users\\seoeu\\anaconda3\\lib\\site-packages (from requests->python-binance==1.0.15) (2024.2.2)\n",
      "Requirement already satisfied: tzdata in c:\\users\\seoeu\\anaconda3\\lib\\site-packages (from tzlocal->dateparser->python-binance==1.0.15) (2023.3)\n",
      "Note: you may need to restart the kernel to use updated packages.\n"
     ]
    }
   ],
   "source": [
    "pip install --user python-binance==1.0.15"
   ]
  },
  {
   "cell_type": "code",
   "execution_count": 2,
   "id": "86c9076d-1f16-4f56-83a9-11c77eb17d91",
   "metadata": {},
   "outputs": [
    {
     "name": "stdout",
     "output_type": "stream",
     "text": [
      "1.0.15\n"
     ]
    }
   ],
   "source": [
    "import binance\n",
    "print(binance.__version__)"
   ]
  },
  {
   "cell_type": "code",
   "execution_count": 3,
   "id": "247cce49-4505-4d2e-9c5e-8415b443b8eb",
   "metadata": {},
   "outputs": [
    {
     "name": "stdout",
     "output_type": "stream",
     "text": [
      "3.9.13 (main, Oct 13 2022, 21:23:06) [MSC v.1916 64 bit (AMD64)]\n"
     ]
    }
   ],
   "source": [
    "import sys\n",
    "print(sys.version)"
   ]
  },
  {
   "cell_type": "code",
   "execution_count": 4,
   "id": "367475f5-b062-40ff-885e-18a2ade4ed35",
   "metadata": {},
   "outputs": [],
   "source": [
    "from binance import ThreadedWebsocketManager\n",
    "import pandas as pd"
   ]
  },
  {
   "attachments": {
    "b3aa2843-b983-4811-a542-699225e707bf.png": {
     "image/png": "[encoded data removed]"
    }
   },
   "cell_type": "markdown",
   "id": "38ece156-115f-4e8f-8135-df64bad075e0",
   "metadata": {},
   "source": [
    "**Kline/Candlestick Streams :** The Kline/Candlestick Stream push updates to the current klines/candlestick every second. \n",
    "\n",
    "https://binance-docs.github.io/apidocs/spot/en/#kline-candlestick-streams\n",
    "\n",
    "**payload :** \n",
    "\n",
    "![image.png](attachment:b3aa2843-b983-4811-a542-699225e707bf.png)"
   ]
  },
  {
   "cell_type": "code",
   "execution_count": 5,
   "id": "e0ce7918-a6f6-459e-80d0-1af3d9bfdd4d",
   "metadata": {},
   "outputs": [
    {
     "data": {
      "text/html": [
       "<div>\n",
       "<style scoped>\n",
       "    .dataframe tbody tr th:only-of-type {\n",
       "        vertical-align: middle;\n",
       "    }\n",
       "\n",
       "    .dataframe tbody tr th {\n",
       "        vertical-align: top;\n",
       "    }\n",
       "\n",
       "    .dataframe thead th {\n",
       "        text-align: right;\n",
       "    }\n",
       "</style>\n",
       "<table border=\"1\" class=\"dataframe\">\n",
       "  <thead>\n",
       "    <tr style=\"text-align: right;\">\n",
       "      <th></th>\n",
       "      <th>Open</th>\n",
       "      <th>High</th>\n",
       "      <th>Low</th>\n",
       "      <th>Close</th>\n",
       "      <th>Volume</th>\n",
       "      <th>Complete</th>\n",
       "    </tr>\n",
       "  </thead>\n",
       "  <tbody>\n",
       "  </tbody>\n",
       "</table>\n",
       "</div>"
      ],
      "text/plain": [
       "Empty DataFrame\n",
       "Columns: [Open, High, Low, Close, Volume, Complete]\n",
       "Index: []"
      ]
     },
     "execution_count": 5,
     "metadata": {},
     "output_type": "execute_result"
    }
   ],
   "source": [
    "df = pd.DataFrame(columns = [\"Open\", \"High\" ,\"Low\", \"Close\", \"Volume\", \"Complete\"])\n",
    "#시가,최고가,최저가,종가,거래량,봉의 닫힘 여부\n",
    "df"
   ]
  },
  {
   "cell_type": "code",
   "execution_count": 6,
   "id": "2bcd6a42-466b-49b5-b5df-7d6615e5344c",
   "metadata": {},
   "outputs": [],
   "source": [
    "def stream_candles(msg):\n",
    "    '''define how to process incoming WebSocket message'''\n",
    "\n",
    "    #extract the requird items from msg\n",
    "    event_time = pd.to_datetime(msg[\"E\"], unit = \"ms\")\n",
    "    start_time = pd.to_datetime(msg[\"k\"][\"t\"], unit = \"ms\")\n",
    "    first   = float(msg[\"k\"][\"o\"])\n",
    "    high    = float(msg[\"k\"][\"h\"])\n",
    "    low     = float(msg[\"k\"][\"l\"])\n",
    "    close   = float(msg[\"k\"][\"c\"])\n",
    "    volume  = float(msg[\"k\"][\"v\"])\n",
    "    complete= msg[\"k\"][\"x\"]\n",
    "\n",
    "    #print out \n",
    "    print(\"Time: {} | Price : {}\".format(event_time,close))\n",
    "    \n",
    "    #feed df (add new bar / update latest bar)\n",
    "    df.loc[start_time] = [first, high, low, close, volume, complete]"
   ]
  },
  {
   "cell_type": "code",
   "execution_count": 7,
   "id": "3ec7ca58-b0ec-476c-9ae0-812178b84ab3",
   "metadata": {},
   "outputs": [],
   "source": [
    "twm = ThreadedWebsocketManager()\n",
    "twm.start()"
   ]
  },
  {
   "cell_type": "markdown",
   "id": "1ba72704-4040-4585-bc05-f7a67be82a9f",
   "metadata": {},
   "source": [
    "#### valid intervals = 1m, 3m, 5m, 15m, 30m, 1h, 2h, 4h, 6h, 8h, 12h, 1d, 3d, 1w, 1M"
   ]
  },
  {
   "cell_type": "code",
   "execution_count": 8,
   "id": "3a75d714-7299-4677-8547-cc5719348a18",
   "metadata": {},
   "outputs": [
    {
     "data": {
      "text/plain": [
       "'btcusdt@kline_1m'"
      ]
     },
     "execution_count": 8,
     "metadata": {},
     "output_type": "execute_result"
    },
    {
     "name": "stdout",
     "output_type": "stream",
     "text": [
      "Time: 2024-02-18 04:33:50.375000 | Price : 51573.99\n",
      "Time: 2024-02-18 04:33:53.036000 | Price : 51573.99\n",
      "Time: 2024-02-18 04:33:55.321000 | Price : 51574.0\n",
      "Time: 2024-02-18 04:33:57.548000 | Price : 51573.99\n",
      "Time: 2024-02-18 04:33:59.550000 | Price : 51574.0\n",
      "Time: 2024-02-18 04:34:00.005000 | Price : 51573.99\n",
      "Time: 2024-02-18 04:34:02.323000 | Price : 51573.99\n",
      "Time: 2024-02-18 04:34:04.714000 | Price : 51558.93\n",
      "Time: 2024-02-18 04:34:06.775000 | Price : 51558.92\n"
     ]
    }
   ],
   "source": [
    "twm.start_kline_socket(callback = stream_candles, symbol = \"BTCUSDT\", interval = \"1m\")"
   ]
  },
  {
   "cell_type": "code",
   "execution_count": 9,
   "id": "35eb2cb2-1daa-44cc-9fe4-d43b4054290a",
   "metadata": {},
   "outputs": [],
   "source": [
    "twm.stop()"
   ]
  },
  {
   "cell_type": "code",
   "execution_count": 10,
   "id": "2553cff1-a0a4-4d78-a4df-e957a63152e6",
   "metadata": {},
   "outputs": [
    {
     "data": {
      "text/html": [
       "<div>\n",
       "<style scoped>\n",
       "    .dataframe tbody tr th:only-of-type {\n",
       "        vertical-align: middle;\n",
       "    }\n",
       "\n",
       "    .dataframe tbody tr th {\n",
       "        vertical-align: top;\n",
       "    }\n",
       "\n",
       "    .dataframe thead th {\n",
       "        text-align: right;\n",
       "    }\n",
       "</style>\n",
       "<table border=\"1\" class=\"dataframe\">\n",
       "  <thead>\n",
       "    <tr style=\"text-align: right;\">\n",
       "      <th></th>\n",
       "      <th>Open</th>\n",
       "      <th>High</th>\n",
       "      <th>Low</th>\n",
       "      <th>Close</th>\n",
       "      <th>Volume</th>\n",
       "      <th>Complete</th>\n",
       "    </tr>\n",
       "  </thead>\n",
       "  <tbody>\n",
       "    <tr>\n",
       "      <th>2024-02-18 04:33:00</th>\n",
       "      <td>51596.27</td>\n",
       "      <td>51596.27</td>\n",
       "      <td>51573.99</td>\n",
       "      <td>51573.99</td>\n",
       "      <td>14.96897</td>\n",
       "      <td>True</td>\n",
       "    </tr>\n",
       "    <tr>\n",
       "      <th>2024-02-18 04:34:00</th>\n",
       "      <td>51574.00</td>\n",
       "      <td>51574.00</td>\n",
       "      <td>51558.92</td>\n",
       "      <td>51558.92</td>\n",
       "      <td>38.45481</td>\n",
       "      <td>False</td>\n",
       "    </tr>\n",
       "  </tbody>\n",
       "</table>\n",
       "</div>"
      ],
      "text/plain": [
       "                         Open      High       Low     Close    Volume  \\\n",
       "2024-02-18 04:33:00  51596.27  51596.27  51573.99  51573.99  14.96897   \n",
       "2024-02-18 04:34:00  51574.00  51574.00  51558.92  51558.92  38.45481   \n",
       "\n",
       "                     Complete  \n",
       "2024-02-18 04:33:00      True  \n",
       "2024-02-18 04:34:00     False  "
      ]
     },
     "execution_count": 10,
     "metadata": {},
     "output_type": "execute_result"
    },
    {
     "name": "stdout",
     "output_type": "stream",
     "text": [
      "Time: 2024-02-18 04:34:09.135000 | Price : 51558.92\n"
     ]
    }
   ],
   "source": [
    "df"
   ]
  },
  {
   "cell_type": "code",
   "execution_count": 11,
   "id": "5f0a0a4c-5ea3-4067-acbc-abd60d3b5f5f",
   "metadata": {},
   "outputs": [
    {
     "name": "stdout",
     "output_type": "stream",
     "text": [
      "<class 'pandas.core.frame.DataFrame'>\n",
      "DatetimeIndex: 2 entries, 2024-02-18 04:33:00 to 2024-02-18 04:34:00\n",
      "Data columns (total 6 columns):\n",
      " #   Column    Non-Null Count  Dtype  \n",
      "---  ------    --------------  -----  \n",
      " 0   Open      2 non-null      float64\n",
      " 1   High      2 non-null      float64\n",
      " 2   Low       2 non-null      float64\n",
      " 3   Close     2 non-null      float64\n",
      " 4   Volume    2 non-null      float64\n",
      " 5   Complete  2 non-null      bool   \n",
      "dtypes: bool(1), float64(5)\n",
      "memory usage: 206.0 bytes\n"
     ]
    }
   ],
   "source": [
    "df.info()"
   ]
  },
  {
   "cell_type": "code",
   "execution_count": null,
   "id": "f180a46c-eebc-4842-b615-03fe06fb63bb",
   "metadata": {},
   "outputs": [],
   "source": []
  }
 ],
 "metadata": {
  "kernelspec": {
   "display_name": "Python 3 (ipykernel)",
   "language": "python",
   "name": "python3"
  },
  "language_info": {
   "codemirror_mode": {
    "name": "ipython",
    "version": 3
   },
   "file_extension": ".py",
   "mimetype": "text/x-python",
   "name": "python",
   "nbconvert_exporter": "python",
   "pygments_lexer": "ipython3",
   "version": "3.9.13"
  }
 },
 "nbformat": 4,
 "nbformat_minor": 5
}
