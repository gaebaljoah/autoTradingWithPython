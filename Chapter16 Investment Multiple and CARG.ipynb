{
 "cells": [
  {
   "cell_type": "markdown",
   "id": "896f1c0d-803e-4815-9c8a-953fa4e73b84",
   "metadata": {},
   "source": [
    "#### 투자배수와 연평균성장율(CARG)에 대하여 알아보기"
   ]
  },
  {
   "cell_type": "code",
   "execution_count": 1,
   "id": "c65a9b66-faa1-4669-9b93-d7b099dcba8b",
   "metadata": {},
   "outputs": [],
   "source": [
    "import pandas as pd\n",
    "import numpy as np\n",
    "import matplotlib.pyplot as plt\n",
    "pd.options.display.float_format = '{:.4f}'.format\n",
    "plt.style.use(\"seaborn-v0_8\")"
   ]
  },
  {
   "cell_type": "code",
   "execution_count": 2,
   "id": "6d371e5f-035f-48ba-aa8b-53db797c4e06",
   "metadata": {},
   "outputs": [
    {
     "data": {
      "text/html": [
       "<div>\n",
       "<style scoped>\n",
       "    .dataframe tbody tr th:only-of-type {\n",
       "        vertical-align: middle;\n",
       "    }\n",
       "\n",
       "    .dataframe tbody tr th {\n",
       "        vertical-align: top;\n",
       "    }\n",
       "\n",
       "    .dataframe thead th {\n",
       "        text-align: right;\n",
       "    }\n",
       "</style>\n",
       "<table border=\"1\" class=\"dataframe\">\n",
       "  <thead>\n",
       "    <tr style=\"text-align: right;\">\n",
       "      <th></th>\n",
       "      <th>Price</th>\n",
       "      <th>Returns</th>\n",
       "    </tr>\n",
       "    <tr>\n",
       "      <th>Date</th>\n",
       "      <th></th>\n",
       "      <th></th>\n",
       "    </tr>\n",
       "  </thead>\n",
       "  <tbody>\n",
       "    <tr>\n",
       "      <th>2014-10-01</th>\n",
       "      <td>45.9000</td>\n",
       "      <td>NaN</td>\n",
       "    </tr>\n",
       "    <tr>\n",
       "      <th>2014-10-02</th>\n",
       "      <td>45.7600</td>\n",
       "      <td>-0.0031</td>\n",
       "    </tr>\n",
       "    <tr>\n",
       "      <th>2014-10-03</th>\n",
       "      <td>46.0900</td>\n",
       "      <td>0.0072</td>\n",
       "    </tr>\n",
       "    <tr>\n",
       "      <th>2014-10-06</th>\n",
       "      <td>46.0900</td>\n",
       "      <td>0.0000</td>\n",
       "    </tr>\n",
       "    <tr>\n",
       "      <th>2014-10-07</th>\n",
       "      <td>45.5300</td>\n",
       "      <td>-0.0122</td>\n",
       "    </tr>\n",
       "    <tr>\n",
       "      <th>...</th>\n",
       "      <td>...</td>\n",
       "      <td>...</td>\n",
       "    </tr>\n",
       "    <tr>\n",
       "      <th>2024-02-12</th>\n",
       "      <td>415.2600</td>\n",
       "      <td>-0.0126</td>\n",
       "    </tr>\n",
       "    <tr>\n",
       "      <th>2024-02-13</th>\n",
       "      <td>406.3200</td>\n",
       "      <td>-0.0215</td>\n",
       "    </tr>\n",
       "    <tr>\n",
       "      <th>2024-02-14</th>\n",
       "      <td>409.4900</td>\n",
       "      <td>0.0078</td>\n",
       "    </tr>\n",
       "    <tr>\n",
       "      <th>2024-02-15</th>\n",
       "      <td>406.5600</td>\n",
       "      <td>-0.0072</td>\n",
       "    </tr>\n",
       "    <tr>\n",
       "      <th>2024-02-16</th>\n",
       "      <td>404.0600</td>\n",
       "      <td>-0.0061</td>\n",
       "    </tr>\n",
       "  </tbody>\n",
       "</table>\n",
       "<p>2361 rows × 2 columns</p>\n",
       "</div>"
      ],
      "text/plain": [
       "              Price  Returns\n",
       "Date                        \n",
       "2014-10-01  45.9000      NaN\n",
       "2014-10-02  45.7600  -0.0031\n",
       "2014-10-03  46.0900   0.0072\n",
       "2014-10-06  46.0900   0.0000\n",
       "2014-10-07  45.5300  -0.0122\n",
       "...             ...      ...\n",
       "2024-02-12 415.2600  -0.0126\n",
       "2024-02-13 406.3200  -0.0215\n",
       "2024-02-14 409.4900   0.0078\n",
       "2024-02-15 406.5600  -0.0072\n",
       "2024-02-16 404.0600  -0.0061\n",
       "\n",
       "[2361 rows x 2 columns]"
      ]
     },
     "execution_count": 2,
     "metadata": {},
     "output_type": "execute_result"
    }
   ],
   "source": [
    "msft = pd.read_csv(\"msft.csv\", index_col = \"Date\", parse_dates = [\"Date\"])\n",
    "msft"
   ]
  },
  {
   "cell_type": "markdown",
   "id": "1a70a94d-41ef-4b59-a107-86f3bc389e33",
   "metadata": {},
   "source": [
    "#### **Investment Multiple:** Ending Value of 1[dollar] invested.\n",
    "#### Multiple = Ending Value / Initial Investment\n",
    "\n",
    "여기서 \"Ending Value of 1[dollar] invested\"는 1달러를 투자한 후의 종료 값(Ending Value)을 나타낸다. 즉, 초기에 1달러를 투자했을 때, 해당 투자가 얼마나 성공적으로 성장했는지를 의미한다. \r\n",
    "그리 \"Multiple = Ending Vale/ Initial Investmet\"은 투자 배수를 계산하는 방법설명한다.다. 여기 \"Ending Vale\"는 투자의 종료 값이고 \"Initial Investmet\"는 초기 투자의 가치를 낸다.다. 투자 배수는 종료 값을 초기 투자의 가치로 나눈 것으로, 투자가 얼마나 성공적으로 성장했는 표 표는 지표이다..\r\n",
    "\r\n",
    "예를 들어, 투자 배수가 2이면, 초기에 1달러를 투자했을 때 종료 값은 2달러가 되었음한다.합니다. 따라서 해당 투자는 2배로 성장했다고 할다.습니다."
   ]
  },
  {
   "cell_type": "code",
   "execution_count": 3,
   "id": "49019158-d79a-49ea-8ec6-e2642ee6c636",
   "metadata": {},
   "outputs": [
    {
     "data": {
      "text/plain": [
       "8.803049763098166"
      ]
     },
     "execution_count": 3,
     "metadata": {},
     "output_type": "execute_result"
    }
   ],
   "source": [
    "multiple = (msft.Price.iloc[-1]/ msft.Price.iloc[0])\n",
    "multiple\n",
    "#현재금액이 설정한 초기 금액의 몇배인지 알 수 있다. "
   ]
  },
  {
   "cell_type": "code",
   "execution_count": 4,
   "id": "86ca8a9a-9533-4ee3-9e14-446b4a541013",
   "metadata": {},
   "outputs": [
    {
     "data": {
      "text/plain": [
       "780.3049763098165"
      ]
     },
     "execution_count": 4,
     "metadata": {},
     "output_type": "execute_result"
    }
   ],
   "source": [
    "(multiple - 1) * 100\n",
    "# 상승률 780% 상승했음을 의미"
   ]
  },
  {
   "cell_type": "code",
   "execution_count": 5,
   "id": "79cbf0c3-1a18-4ccf-8727-3b60e2572795",
   "metadata": {},
   "outputs": [
    {
     "data": {
      "text/plain": [
       "Date\n",
       "2014-10-01   1.0000\n",
       "2014-10-02   0.9969\n",
       "2014-10-03   1.0041\n",
       "2014-10-06   1.0041\n",
       "2014-10-07   0.9919\n",
       "              ...  \n",
       "2024-02-12   9.0471\n",
       "2024-02-13   8.8523\n",
       "2024-02-14   8.9214\n",
       "2024-02-15   8.8575\n",
       "2024-02-16   8.8030\n",
       "Name: Price, Length: 2361, dtype: float64"
      ]
     },
     "execution_count": 5,
     "metadata": {},
     "output_type": "execute_result"
    }
   ],
   "source": [
    "msft.Price / msft.Price.iloc[0]"
   ]
  },
  {
   "cell_type": "code",
   "execution_count": 6,
   "id": "af2cb407-d52f-44e2-a37a-db2ffe3ba4ef",
   "metadata": {},
   "outputs": [
    {
     "data": {
      "text/plain": [
       "Timestamp('2014-10-01 00:00:00')"
      ]
     },
     "execution_count": 6,
     "metadata": {},
     "output_type": "execute_result"
    }
   ],
   "source": [
    "start = msft.index[0]\n",
    "start"
   ]
  },
  {
   "cell_type": "code",
   "execution_count": 7,
   "id": "28b86b9e-2f86-4718-adee-9c5fd11dc7bf",
   "metadata": {},
   "outputs": [
    {
     "data": {
      "text/plain": [
       "Timestamp('2024-02-16 00:00:00')"
      ]
     },
     "execution_count": 7,
     "metadata": {},
     "output_type": "execute_result"
    }
   ],
   "source": [
    "end = msft.index[-1]\n",
    "end"
   ]
  },
  {
   "cell_type": "code",
   "execution_count": 8,
   "id": "6c9dc35f-ebda-430e-945f-0fe5d6ed520a",
   "metadata": {},
   "outputs": [
    {
     "data": {
      "text/plain": [
       "Timedelta('3425 days 00:00:00')"
      ]
     },
     "execution_count": 8,
     "metadata": {},
     "output_type": "execute_result"
    }
   ],
   "source": [
    "td = end - start \n",
    "td"
   ]
  },
  {
   "cell_type": "code",
   "execution_count": 9,
   "id": "7f83e727-a731-44c2-b998-6f369c86864c",
   "metadata": {},
   "outputs": [
    {
     "data": {
      "text/plain": [
       "9.377138945927447"
      ]
     },
     "execution_count": 9,
     "metadata": {},
     "output_type": "execute_result"
    }
   ],
   "source": [
    "td_years = td.days / 365.25\n",
    "td_years"
   ]
  },
  {
   "cell_type": "code",
   "execution_count": 12,
   "id": "e0ceba6e-14c7-4cec-bafa-7e92185ef257",
   "metadata": {},
   "outputs": [
    {
     "data": {
      "text/plain": [
       "0.2610662020925356"
      ]
     },
     "execution_count": 12,
     "metadata": {},
     "output_type": "execute_result"
    }
   ],
   "source": [
    "carg = multiple**(1 / td_years) - 1 #간단한 버전\n",
    "carg #연평균 성장률 => 26.1%"
   ]
  },
  {
   "cell_type": "code",
   "execution_count": 13,
   "id": "0f643d41-48fe-41f1-aa74-98cc6861fc7a",
   "metadata": {},
   "outputs": [
    {
     "data": {
      "text/plain": [
       "0.2610662020925356"
      ]
     },
     "execution_count": 13,
     "metadata": {},
     "output_type": "execute_result"
    }
   ],
   "source": [
    "carg2 = (msft.Price.iloc[-1]/msft.Price.iloc[0])**(1/((msft.index[-1] - msft.index[0]).days / 365.25)) - 1\n",
    "carg2"
   ]
  },
  {
   "cell_type": "code",
   "execution_count": 14,
   "id": "92050f69-f76c-488a-9e87-1a68505d869b",
   "metadata": {},
   "outputs": [
    {
     "data": {
      "text/plain": [
       "8.803049763098164"
      ]
     },
     "execution_count": 14,
     "metadata": {},
     "output_type": "execute_result"
    }
   ],
   "source": [
    "(1 + carg) ** (td_years)"
   ]
  },
  {
   "cell_type": "code",
   "execution_count": 15,
   "id": "45661bb5-c872-47f1-822e-90a4dcb869c2",
   "metadata": {},
   "outputs": [
    {
     "data": {
      "text/plain": [
       "8.803049763098581"
      ]
     },
     "execution_count": 15,
     "metadata": {},
     "output_type": "execute_result"
    }
   ],
   "source": [
    "#일일 수익률을 모두 다 더하는 방법\n",
    "multiple = (1 + msft.Returns).prod()\n",
    "multiple"
   ]
  },
  {
   "cell_type": "code",
   "execution_count": 16,
   "id": "41b8ae8a-0d83-4b3b-9ab4-978989e7f0e1",
   "metadata": {},
   "outputs": [
    {
     "data": {
      "text/plain": [
       "2360"
      ]
     },
     "execution_count": 16,
     "metadata": {},
     "output_type": "execute_result"
    }
   ],
   "source": [
    "n = msft.Returns.count()\n",
    "n"
   ]
  },
  {
   "cell_type": "code",
   "execution_count": 20,
   "id": "a87453d0-7407-4cfe-b584-fce8f5ceb67d",
   "metadata": {},
   "outputs": [
    {
     "data": {
      "text/plain": [
       "0.09220766419608672"
      ]
     },
     "execution_count": 20,
     "metadata": {},
     "output_type": "execute_result"
    }
   ],
   "source": [
    "geo_mean = multiple**(1/n) - 1\n",
    "geo_mean * 100"
   ]
  },
  {
   "cell_type": "code",
   "execution_count": 18,
   "id": "6a589f9e-f6ca-48e2-be44-ae75bfbc8a21",
   "metadata": {},
   "outputs": [
    {
     "data": {
      "text/plain": [
       "0.0010729173440234417"
      ]
     },
     "execution_count": 18,
     "metadata": {},
     "output_type": "execute_result"
    }
   ],
   "source": [
    "mu = msft.Returns.mean()\n",
    "mu"
   ]
  },
  {
   "cell_type": "code",
   "execution_count": 19,
   "id": "aba25d7f-4934-4b07-8a78-e1dcfaf25f46",
   "metadata": {},
   "outputs": [
    {
     "data": {
      "text/plain": [
       "12.562642685424924"
      ]
     },
     "execution_count": 19,
     "metadata": {},
     "output_type": "execute_result"
    }
   ],
   "source": [
    "(1 + mu) ** n"
   ]
  },
  {
   "cell_type": "code",
   "execution_count": null,
   "id": "a8eb415f-e350-4871-b926-83b115957b1a",
   "metadata": {},
   "outputs": [],
   "source": []
  }
 ],
 "metadata": {
  "kernelspec": {
   "display_name": "Python 3 (ipykernel)",
   "language": "python",
   "name": "python3"
  },
  "language_info": {
   "codemirror_mode": {
    "name": "ipython",
    "version": 3
   },
   "file_extension": ".py",
   "mimetype": "text/x-python",
   "name": "python",
   "nbconvert_exporter": "python",
   "pygments_lexer": "ipython3",
   "version": "3.9.13"
  }
 },
 "nbformat": 4,
 "nbformat_minor": 5
}
