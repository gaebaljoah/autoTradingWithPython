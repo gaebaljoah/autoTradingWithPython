{
 "cells": [
  {
   "cell_type": "code",
   "execution_count": 3,
   "id": "552fa5b2",
   "metadata": {},
   "outputs": [],
   "source": [
    "api_key = \"TGV2OZgIKqiCEWvhVUAUDGBB99Eixo1z2ILlZ0h3lRdutfklTwRlqzPYpIazsYcn\"\n",
    "secret_key = \"CrgLtKo6MRxdL6tJRNKokKPKOAWa0Rn59Q9KfX57yal0E1WTqz79jk2IT03g6VcZ\""
   ]
  },
  {
   "cell_type": "markdown",
   "id": "7c6556cf-ade3-4364-afd0-98387b2546d6",
   "metadata": {},
   "source": [
    "#### 백테스팅 용 바이낸스에 돈도 없고 실제 돈으로 할 경우 apikey 어차피 바꿈 그러니 해킹 말아줘용 "
   ]
  },
  {
   "cell_type": "markdown",
   "id": "db34efb3",
   "metadata": {},
   "source": [
    "# Installing required Libraries/Packages\n",
    "\n",
    "install python-binance with :\n",
    "- pip install python-binance\n",
    "\n",
    "(first : conda update anaconda)"
   ]
  }
 ],
 "metadata": {
  "kernelspec": {
   "display_name": "Python 3 (ipykernel)",
   "language": "python",
   "name": "python3"
  },
  "language_info": {
   "codemirror_mode": {
    "name": "ipython",
    "version": 3
   },
   "file_extension": ".py",
   "mimetype": "text/x-python",
   "name": "python",
   "nbconvert_exporter": "python",
   "pygments_lexer": "ipython3",
   "version": "3.11.5"
  }
 },
 "nbformat": 4,
 "nbformat_minor": 5
}
